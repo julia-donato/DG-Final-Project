{
 "cells": [
  {
   "cell_type": "markdown",
   "id": "383041c1",
   "metadata": {},
   "source": [
    "### Feature selection using chi-squared"
   ]
  },
  {
   "cell_type": "code",
   "execution_count": 1,
   "id": "4de59165",
   "metadata": {},
   "outputs": [
    {
     "name": "stdout",
     "output_type": "stream",
     "text": [
      "                                             Feature        Score\n",
      "0                                Dexa_Freq_During_Rx  8443.923832\n",
      "1                                     Dexa_During_Rx   601.821735\n",
      "2              Comorb_Long_Term_Current_Drug_Therapy   324.413431\n",
      "3  Comorb_Encounter_For_Screening_For_Malignant_N...   196.456669\n",
      "4                  Comorb_Encounter_For_Immunization   189.482869\n"
     ]
    }
   ],
   "source": [
    "import pandas as pd\n",
    "import pickle\n",
    "from sklearn.ensemble import AdaBoostClassifier\n",
    "from sklearn.tree import DecisionTreeClassifier\n",
    "from sklearn.feature_selection import SelectKBest, chi2\n",
    "from sklearn.model_selection import train_test_split\n",
    "\n",
    "train = pd.read_csv('cleaned_dataset_final.csv')\n",
    "\n",
    "X = train.drop('Persistent',axis=1)\n",
    "y = train['Persistent']\n",
    "\n",
    "# Feature selection\n",
    "selector = SelectKBest(chi2, k=5) # select the top 10 features based on chi squared test\n",
    "selector.fit(X, y)\n",
    "\n",
    "selected_feature_indices = selector.get_support(indices=True)\n",
    "\n",
    "selected_feature_scores = selector.scores_[selected_feature_indices]\n",
    "\n",
    "selected_feature_names = X.columns[selected_feature_indices]\n",
    "\n",
    "# Keep only the selected features\n",
    "X = pd.DataFrame(selector.transform(X), columns=selected_feature_names)\n",
    "\n",
    "X_train, X_test, y_train, y_test = train_test_split(X, y, test_size=0.30)\n",
    "\n",
    "ada = AdaBoostClassifier(base_estimator=DecisionTreeClassifier(max_depth=1), n_estimators=1000, learning_rate=1.0)\n",
    "ada.fit(X_train, y_train)\n",
    "\n",
    "# Print the top features and their scores\n",
    "top_features = pd.DataFrame({'Feature': selected_feature_names, 'Score': selected_feature_scores}).sort_values(by='Score', ascending=False).reset_index(drop=True)\n",
    "print(top_features)\n"
   ]
  },
  {
   "cell_type": "code",
   "execution_count": null,
   "id": "2145e487",
   "metadata": {},
   "outputs": [],
   "source": []
  }
 ],
 "metadata": {
  "kernelspec": {
   "display_name": "Python 3 (ipykernel)",
   "language": "python",
   "name": "python3"
  },
  "language_info": {
   "codemirror_mode": {
    "name": "ipython",
    "version": 3
   },
   "file_extension": ".py",
   "mimetype": "text/x-python",
   "name": "python",
   "nbconvert_exporter": "python",
   "pygments_lexer": "ipython3",
   "version": "3.9.13"
  }
 },
 "nbformat": 4,
 "nbformat_minor": 5
}

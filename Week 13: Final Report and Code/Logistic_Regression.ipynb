{
 "cells": [
  {
   "cell_type": "code",
   "execution_count": 63,
   "id": "a6abbda0",
   "metadata": {},
   "outputs": [],
   "source": [
    "import pandas as pd\n",
    "import numpy as np\n",
    "import matplotlib.pyplot as plt\n",
    "import seaborn as sns\n",
    "%matplotlib inline"
   ]
  },
  {
   "cell_type": "code",
   "execution_count": 64,
   "id": "95089b23",
   "metadata": {},
   "outputs": [],
   "source": [
    "train = pd.read_csv('cleaned_dataset.csv')"
   ]
  },
  {
   "cell_type": "code",
   "execution_count": 65,
   "id": "cc99a02a",
   "metadata": {},
   "outputs": [
    {
     "data": {
      "text/html": [
       "<div>\n",
       "<style scoped>\n",
       "    .dataframe tbody tr th:only-of-type {\n",
       "        vertical-align: middle;\n",
       "    }\n",
       "\n",
       "    .dataframe tbody tr th {\n",
       "        vertical-align: top;\n",
       "    }\n",
       "\n",
       "    .dataframe thead th {\n",
       "        text-align: right;\n",
       "    }\n",
       "</style>\n",
       "<table border=\"1\" class=\"dataframe\">\n",
       "  <thead>\n",
       "    <tr style=\"text-align: right;\">\n",
       "      <th></th>\n",
       "      <th>Ptid</th>\n",
       "      <th>Persistency_Flag</th>\n",
       "      <th>Gender</th>\n",
       "      <th>Race</th>\n",
       "      <th>Ethnicity</th>\n",
       "      <th>Region</th>\n",
       "      <th>Age_Bucket</th>\n",
       "      <th>Ntm_Speciality</th>\n",
       "      <th>Ntm_Specialist_Flag</th>\n",
       "      <th>Ntm_Speciality_Bucket</th>\n",
       "      <th>...</th>\n",
       "      <th>Risk_Family_History_Of_Osteoporosis</th>\n",
       "      <th>Risk_Low_Calcium_Intake</th>\n",
       "      <th>Risk_Vitamin_D_Insufficiency</th>\n",
       "      <th>Risk_Poor_Health_Frailty</th>\n",
       "      <th>Risk_Excessive_Thinness</th>\n",
       "      <th>Risk_Hysterectomy_Oophorectomy</th>\n",
       "      <th>Risk_Estrogen_Deficiency</th>\n",
       "      <th>Risk_Immobilization</th>\n",
       "      <th>Risk_Recurring_Falls</th>\n",
       "      <th>Count_Of_Risks</th>\n",
       "    </tr>\n",
       "  </thead>\n",
       "  <tbody>\n",
       "    <tr>\n",
       "      <th>0</th>\n",
       "      <td>P1</td>\n",
       "      <td>Persistent</td>\n",
       "      <td>Male</td>\n",
       "      <td>Caucasian</td>\n",
       "      <td>Not Hispanic</td>\n",
       "      <td>West</td>\n",
       "      <td>0</td>\n",
       "      <td>GENERAL PRACTITIONER</td>\n",
       "      <td>Others</td>\n",
       "      <td>OB/GYN/Others/PCP/Unknown</td>\n",
       "      <td>...</td>\n",
       "      <td>0</td>\n",
       "      <td>0</td>\n",
       "      <td>0</td>\n",
       "      <td>0</td>\n",
       "      <td>0</td>\n",
       "      <td>0</td>\n",
       "      <td>0</td>\n",
       "      <td>0</td>\n",
       "      <td>0</td>\n",
       "      <td>0</td>\n",
       "    </tr>\n",
       "    <tr>\n",
       "      <th>1</th>\n",
       "      <td>P2</td>\n",
       "      <td>Non-Persistent</td>\n",
       "      <td>Male</td>\n",
       "      <td>Asian</td>\n",
       "      <td>Not Hispanic</td>\n",
       "      <td>West</td>\n",
       "      <td>2</td>\n",
       "      <td>GENERAL PRACTITIONER</td>\n",
       "      <td>Others</td>\n",
       "      <td>OB/GYN/Others/PCP/Unknown</td>\n",
       "      <td>...</td>\n",
       "      <td>0</td>\n",
       "      <td>0</td>\n",
       "      <td>0</td>\n",
       "      <td>0</td>\n",
       "      <td>0</td>\n",
       "      <td>0</td>\n",
       "      <td>0</td>\n",
       "      <td>0</td>\n",
       "      <td>0</td>\n",
       "      <td>0</td>\n",
       "    </tr>\n",
       "    <tr>\n",
       "      <th>2</th>\n",
       "      <td>P3</td>\n",
       "      <td>Non-Persistent</td>\n",
       "      <td>Female</td>\n",
       "      <td>Caucasian</td>\n",
       "      <td>Hispanic</td>\n",
       "      <td>Midwest</td>\n",
       "      <td>1</td>\n",
       "      <td>GENERAL PRACTITIONER</td>\n",
       "      <td>Others</td>\n",
       "      <td>OB/GYN/Others/PCP/Unknown</td>\n",
       "      <td>...</td>\n",
       "      <td>0</td>\n",
       "      <td>1</td>\n",
       "      <td>0</td>\n",
       "      <td>0</td>\n",
       "      <td>0</td>\n",
       "      <td>0</td>\n",
       "      <td>0</td>\n",
       "      <td>0</td>\n",
       "      <td>0</td>\n",
       "      <td>2</td>\n",
       "    </tr>\n",
       "    <tr>\n",
       "      <th>3</th>\n",
       "      <td>P4</td>\n",
       "      <td>Non-Persistent</td>\n",
       "      <td>Female</td>\n",
       "      <td>Caucasian</td>\n",
       "      <td>Not Hispanic</td>\n",
       "      <td>Midwest</td>\n",
       "      <td>0</td>\n",
       "      <td>GENERAL PRACTITIONER</td>\n",
       "      <td>Others</td>\n",
       "      <td>OB/GYN/Others/PCP/Unknown</td>\n",
       "      <td>...</td>\n",
       "      <td>0</td>\n",
       "      <td>0</td>\n",
       "      <td>0</td>\n",
       "      <td>0</td>\n",
       "      <td>0</td>\n",
       "      <td>0</td>\n",
       "      <td>0</td>\n",
       "      <td>0</td>\n",
       "      <td>0</td>\n",
       "      <td>1</td>\n",
       "    </tr>\n",
       "    <tr>\n",
       "      <th>4</th>\n",
       "      <td>P5</td>\n",
       "      <td>Non-Persistent</td>\n",
       "      <td>Female</td>\n",
       "      <td>Caucasian</td>\n",
       "      <td>Not Hispanic</td>\n",
       "      <td>Midwest</td>\n",
       "      <td>0</td>\n",
       "      <td>GENERAL PRACTITIONER</td>\n",
       "      <td>Others</td>\n",
       "      <td>OB/GYN/Others/PCP/Unknown</td>\n",
       "      <td>...</td>\n",
       "      <td>0</td>\n",
       "      <td>0</td>\n",
       "      <td>0</td>\n",
       "      <td>0</td>\n",
       "      <td>0</td>\n",
       "      <td>0</td>\n",
       "      <td>0</td>\n",
       "      <td>0</td>\n",
       "      <td>0</td>\n",
       "      <td>1</td>\n",
       "    </tr>\n",
       "  </tbody>\n",
       "</table>\n",
       "<p>5 rows × 66 columns</p>\n",
       "</div>"
      ],
      "text/plain": [
       "  Ptid Persistency_Flag  Gender       Race     Ethnicity   Region  Age_Bucket  \\\n",
       "0   P1       Persistent    Male  Caucasian  Not Hispanic     West           0   \n",
       "1   P2   Non-Persistent    Male      Asian  Not Hispanic     West           2   \n",
       "2   P3   Non-Persistent  Female  Caucasian      Hispanic  Midwest           1   \n",
       "3   P4   Non-Persistent  Female  Caucasian  Not Hispanic  Midwest           0   \n",
       "4   P5   Non-Persistent  Female  Caucasian  Not Hispanic  Midwest           0   \n",
       "\n",
       "         Ntm_Speciality Ntm_Specialist_Flag      Ntm_Speciality_Bucket  ...  \\\n",
       "0  GENERAL PRACTITIONER              Others  OB/GYN/Others/PCP/Unknown  ...   \n",
       "1  GENERAL PRACTITIONER              Others  OB/GYN/Others/PCP/Unknown  ...   \n",
       "2  GENERAL PRACTITIONER              Others  OB/GYN/Others/PCP/Unknown  ...   \n",
       "3  GENERAL PRACTITIONER              Others  OB/GYN/Others/PCP/Unknown  ...   \n",
       "4  GENERAL PRACTITIONER              Others  OB/GYN/Others/PCP/Unknown  ...   \n",
       "\n",
       "   Risk_Family_History_Of_Osteoporosis  Risk_Low_Calcium_Intake  \\\n",
       "0                                    0                        0   \n",
       "1                                    0                        0   \n",
       "2                                    0                        1   \n",
       "3                                    0                        0   \n",
       "4                                    0                        0   \n",
       "\n",
       "   Risk_Vitamin_D_Insufficiency  Risk_Poor_Health_Frailty  \\\n",
       "0                             0                         0   \n",
       "1                             0                         0   \n",
       "2                             0                         0   \n",
       "3                             0                         0   \n",
       "4                             0                         0   \n",
       "\n",
       "   Risk_Excessive_Thinness  Risk_Hysterectomy_Oophorectomy  \\\n",
       "0                        0                               0   \n",
       "1                        0                               0   \n",
       "2                        0                               0   \n",
       "3                        0                               0   \n",
       "4                        0                               0   \n",
       "\n",
       "   Risk_Estrogen_Deficiency  Risk_Immobilization Risk_Recurring_Falls  \\\n",
       "0                         0                    0                    0   \n",
       "1                         0                    0                    0   \n",
       "2                         0                    0                    0   \n",
       "3                         0                    0                    0   \n",
       "4                         0                    0                    0   \n",
       "\n",
       "  Count_Of_Risks  \n",
       "0              0  \n",
       "1              0  \n",
       "2              2  \n",
       "3              1  \n",
       "4              1  \n",
       "\n",
       "[5 rows x 66 columns]"
      ]
     },
     "execution_count": 65,
     "metadata": {},
     "output_type": "execute_result"
    }
   ],
   "source": [
    "train.head()"
   ]
  },
  {
   "cell_type": "code",
   "execution_count": 66,
   "id": "58b30107",
   "metadata": {},
   "outputs": [
    {
     "name": "stdout",
     "output_type": "stream",
     "text": [
      "<class 'pandas.core.frame.DataFrame'>\n",
      "RangeIndex: 3424 entries, 0 to 3423\n",
      "Data columns (total 66 columns):\n",
      " #   Column                                                              Non-Null Count  Dtype \n",
      "---  ------                                                              --------------  ----- \n",
      " 0   Ptid                                                                3424 non-null   object\n",
      " 1   Persistency_Flag                                                    3424 non-null   object\n",
      " 2   Gender                                                              3424 non-null   object\n",
      " 3   Race                                                                3424 non-null   object\n",
      " 4   Ethnicity                                                           3424 non-null   object\n",
      " 5   Region                                                              3424 non-null   object\n",
      " 6   Age_Bucket                                                          3424 non-null   int64 \n",
      " 7   Ntm_Speciality                                                      3424 non-null   object\n",
      " 8   Ntm_Specialist_Flag                                                 3424 non-null   object\n",
      " 9   Ntm_Speciality_Bucket                                               3424 non-null   object\n",
      " 10  Gluco_Record_Prior_Ntm                                              3424 non-null   int64 \n",
      " 11  Gluco_Record_During_Rx                                              3424 non-null   int64 \n",
      " 12  Dexa_Freq_During_Rx                                                 3424 non-null   int64 \n",
      " 13  Dexa_During_Rx                                                      3424 non-null   int64 \n",
      " 14  Frag_Frac_Prior_Ntm                                                 3424 non-null   int64 \n",
      " 15  Frag_Frac_During_Rx                                                 3424 non-null   int64 \n",
      " 16  Risk_Segment_Prior_Ntm                                              3424 non-null   int64 \n",
      " 17  Tscore_Bucket_Prior_Ntm                                             3424 non-null   int64 \n",
      " 18  Change_T_Score                                                      3424 non-null   object\n",
      " 19  Adherent_Flag                                                       3424 non-null   object\n",
      " 20  Idn_Indicator                                                       3424 non-null   int64 \n",
      " 21  Injectable_Experience_During_Rx                                     3424 non-null   int64 \n",
      " 22  Comorb_Encounter_For_Screening_For_Malignant_Neoplasms              3424 non-null   int64 \n",
      " 23  Comorb_Encounter_For_Immunization                                   3424 non-null   int64 \n",
      " 24  Comorb_Encntr_For_General_Exam_W_O_Complaint,_Susp_Or_Reprtd_Dx     3424 non-null   int64 \n",
      " 25  Comorb_Vitamin_D_Deficiency                                         3424 non-null   int64 \n",
      " 26  Comorb_Other_Joint_Disorder_Not_Elsewhere_Classified                3424 non-null   int64 \n",
      " 27  Comorb_Encntr_For_Oth_Sp_Exam_W_O_Complaint_Suspected_Or_Reprtd_Dx  3424 non-null   int64 \n",
      " 28  Comorb_Long_Term_Current_Drug_Therapy                               3424 non-null   int64 \n",
      " 29  Comorb_Dorsalgia                                                    3424 non-null   int64 \n",
      " 30  Comorb_Personal_History_Of_Other_Diseases_And_Conditions            3424 non-null   int64 \n",
      " 31  Comorb_Other_Disorders_Of_Bone_Density_And_Structure                3424 non-null   int64 \n",
      " 32  Comorb_Disorders_of_lipoprotein_metabolism_and_other_lipidemias     3424 non-null   int64 \n",
      " 33  Comorb_Osteoporosis_without_current_pathological_fracture           3424 non-null   int64 \n",
      " 34  Comorb_Personal_history_of_malignant_neoplasm                       3424 non-null   int64 \n",
      " 35  Comorb_Gastro_esophageal_reflux_disease                             3424 non-null   int64 \n",
      " 36  Concom_Cholesterol_And_Triglyceride_Regulating_Preparations         3424 non-null   int64 \n",
      " 37  Concom_Narcotics                                                    3424 non-null   int64 \n",
      " 38  Concom_Systemic_Corticosteroids_Plain                               3424 non-null   int64 \n",
      " 39  Concom_Anti_Depressants_And_Mood_Stabilisers                        3424 non-null   int64 \n",
      " 40  Concom_Fluoroquinolones                                             3424 non-null   int64 \n",
      " 41  Concom_Cephalosporins                                               3424 non-null   int64 \n",
      " 42  Concom_Macrolides_And_Similar_Types                                 3424 non-null   int64 \n",
      " 43  Concom_Broad_Spectrum_Penicillins                                   3424 non-null   int64 \n",
      " 44  Concom_Anaesthetics_General                                         3424 non-null   int64 \n",
      " 45  Concom_Viral_Vaccines                                               3424 non-null   int64 \n",
      " 46  Risk_Type_1_Insulin_Dependent_Diabetes                              3424 non-null   int64 \n",
      " 47  Risk_Osteogenesis_Imperfecta                                        3424 non-null   int64 \n",
      " 48  Risk_Rheumatoid_Arthritis                                           3424 non-null   int64 \n",
      " 49  Risk_Untreated_Chronic_Hyperthyroidism                              3424 non-null   int64 \n",
      " 50  Risk_Untreated_Chronic_Hypogonadism                                 3424 non-null   int64 \n",
      " 51  Risk_Untreated_Early_Menopause                                      3424 non-null   int64 \n",
      " 52  Risk_Patient_Parent_Fractured_Their_Hip                             3424 non-null   int64 \n",
      " 53  Risk_Smoking_Tobacco                                                3424 non-null   int64 \n",
      " 54  Risk_Chronic_Malnutrition_Or_Malabsorption                          3424 non-null   int64 \n",
      " 55  Risk_Chronic_Liver_Disease                                          3424 non-null   int64 \n",
      " 56  Risk_Family_History_Of_Osteoporosis                                 3424 non-null   int64 \n",
      " 57  Risk_Low_Calcium_Intake                                             3424 non-null   int64 \n",
      " 58  Risk_Vitamin_D_Insufficiency                                        3424 non-null   int64 \n",
      " 59  Risk_Poor_Health_Frailty                                            3424 non-null   int64 \n",
      " 60  Risk_Excessive_Thinness                                             3424 non-null   int64 \n",
      " 61  Risk_Hysterectomy_Oophorectomy                                      3424 non-null   int64 \n",
      " 62  Risk_Estrogen_Deficiency                                            3424 non-null   int64 \n",
      " 63  Risk_Immobilization                                                 3424 non-null   int64 \n",
      " 64  Risk_Recurring_Falls                                                3424 non-null   int64 \n",
      " 65  Count_Of_Risks                                                      3424 non-null   int64 \n",
      "dtypes: int64(55), object(11)\n",
      "memory usage: 1.7+ MB\n"
     ]
    }
   ],
   "source": [
    "train.info()"
   ]
  },
  {
   "cell_type": "code",
   "execution_count": 67,
   "id": "a57d84b5",
   "metadata": {
    "scrolled": true
   },
   "outputs": [
    {
     "data": {
      "text/plain": [
       "array(['OB/GYN/Others/PCP/Unknown', 'Endo/Onc/Uro', 'Rheum'], dtype=object)"
      ]
     },
     "execution_count": 67,
     "metadata": {},
     "output_type": "execute_result"
    }
   ],
   "source": [
    "train.Ntm_Speciality_Bucket.unique()"
   ]
  },
  {
   "cell_type": "code",
   "execution_count": 68,
   "id": "ed13121b",
   "metadata": {},
   "outputs": [],
   "source": [
    "train['Ntm_Speciality_Bucket'] = train['Ntm_Speciality_Bucket'].replace({'OB/GYN/Others/PCP/Unknown': 0, 'Endo/Onc/Uro': 1 ,'Rheum':2})"
   ]
  },
  {
   "cell_type": "code",
   "execution_count": 70,
   "id": "2206f3d3",
   "metadata": {},
   "outputs": [
    {
     "data": {
      "text/plain": [
       "array(['No change', 'Unknown', 'Worsened', 'Improved'], dtype=object)"
      ]
     },
     "execution_count": 70,
     "metadata": {},
     "output_type": "execute_result"
    }
   ],
   "source": [
    "train.Change_T_Score.unique()"
   ]
  },
  {
   "cell_type": "code",
   "execution_count": 71,
   "id": "061ac2bd",
   "metadata": {},
   "outputs": [],
   "source": [
    "train['Change_T_Score'] = train['Change_T_Score'].replace({'No change': 0, 'Unknown': 1 ,'Worsened':2, 'Improved':3})"
   ]
  },
  {
   "cell_type": "code",
   "execution_count": 72,
   "id": "a3937e13",
   "metadata": {},
   "outputs": [
    {
     "data": {
      "text/plain": [
       "array(['West', 'Midwest', 'South', 'Northeast'], dtype=object)"
      ]
     },
     "execution_count": 72,
     "metadata": {},
     "output_type": "execute_result"
    }
   ],
   "source": [
    "train.Region.unique()"
   ]
  },
  {
   "cell_type": "code",
   "execution_count": 73,
   "id": "2af785e7",
   "metadata": {},
   "outputs": [],
   "source": [
    "train['Region'] = train['Region'].replace({'West': 0, 'Midwest': 1 ,'South':2, 'Northeast':3})"
   ]
  },
  {
   "cell_type": "code",
   "execution_count": 74,
   "id": "0db18b70",
   "metadata": {},
   "outputs": [
    {
     "data": {
      "text/plain": [
       "array(['Caucasian', 'Asian', 'African American'], dtype=object)"
      ]
     },
     "execution_count": 74,
     "metadata": {},
     "output_type": "execute_result"
    }
   ],
   "source": [
    "train.Race.unique()"
   ]
  },
  {
   "cell_type": "code",
   "execution_count": 75,
   "id": "c43078aa",
   "metadata": {},
   "outputs": [],
   "source": [
    "train['Race'] = train['Race'].replace({'Caucasian': 0, 'Asian': 1 ,'African American':2})"
   ]
  },
  {
   "cell_type": "code",
   "execution_count": 76,
   "id": "c482ddf0",
   "metadata": {},
   "outputs": [],
   "source": [
    "gender = pd.get_dummies(train['Gender'],drop_first=True)\n",
    "adherent = pd.get_dummies(train['Adherent_Flag'],drop_first=True)\n",
    "persistent = pd.get_dummies(train['Persistency_Flag'],drop_first=True)\n",
    "ethnicity = pd.get_dummies(train['Ethnicity'],drop_first=True)\n",
    "specialist = pd.get_dummies(train['Ntm_Specialist_Flag'],drop_first=True)"
   ]
  },
  {
   "cell_type": "code",
   "execution_count": 77,
   "id": "34115d0e",
   "metadata": {},
   "outputs": [],
   "source": [
    "train.drop(['Gender','Adherent_Flag','Persistency_Flag','Ethnicity','Region','Ptid','Ntm_Speciality','Ntm_Specialist_Flag' ],axis=1,inplace=True)"
   ]
  },
  {
   "cell_type": "code",
   "execution_count": 78,
   "id": "d78b2ed0",
   "metadata": {},
   "outputs": [],
   "source": [
    "train = pd.concat([train,gender,adherent,persistent,ethnicity,specialist],axis=1)"
   ]
  },
  {
   "cell_type": "code",
   "execution_count": 80,
   "id": "35ec62ab",
   "metadata": {},
   "outputs": [
    {
     "name": "stdout",
     "output_type": "stream",
     "text": [
      "<class 'pandas.core.frame.DataFrame'>\n",
      "RangeIndex: 3424 entries, 0 to 3423\n",
      "Data columns (total 63 columns):\n",
      " #   Column                                                              Non-Null Count  Dtype\n",
      "---  ------                                                              --------------  -----\n",
      " 0   Race                                                                3424 non-null   int64\n",
      " 1   Age_Bucket                                                          3424 non-null   int64\n",
      " 2   Ntm_Speciality_Bucket                                               3424 non-null   int64\n",
      " 3   Gluco_Record_Prior_Ntm                                              3424 non-null   int64\n",
      " 4   Gluco_Record_During_Rx                                              3424 non-null   int64\n",
      " 5   Dexa_Freq_During_Rx                                                 3424 non-null   int64\n",
      " 6   Dexa_During_Rx                                                      3424 non-null   int64\n",
      " 7   Frag_Frac_Prior_Ntm                                                 3424 non-null   int64\n",
      " 8   Frag_Frac_During_Rx                                                 3424 non-null   int64\n",
      " 9   Risk_Segment_Prior_Ntm                                              3424 non-null   int64\n",
      " 10  Tscore_Bucket_Prior_Ntm                                             3424 non-null   int64\n",
      " 11  Change_T_Score                                                      3424 non-null   int64\n",
      " 12  Idn_Indicator                                                       3424 non-null   int64\n",
      " 13  Injectable_Experience_During_Rx                                     3424 non-null   int64\n",
      " 14  Comorb_Encounter_For_Screening_For_Malignant_Neoplasms              3424 non-null   int64\n",
      " 15  Comorb_Encounter_For_Immunization                                   3424 non-null   int64\n",
      " 16  Comorb_Encntr_For_General_Exam_W_O_Complaint,_Susp_Or_Reprtd_Dx     3424 non-null   int64\n",
      " 17  Comorb_Vitamin_D_Deficiency                                         3424 non-null   int64\n",
      " 18  Comorb_Other_Joint_Disorder_Not_Elsewhere_Classified                3424 non-null   int64\n",
      " 19  Comorb_Encntr_For_Oth_Sp_Exam_W_O_Complaint_Suspected_Or_Reprtd_Dx  3424 non-null   int64\n",
      " 20  Comorb_Long_Term_Current_Drug_Therapy                               3424 non-null   int64\n",
      " 21  Comorb_Dorsalgia                                                    3424 non-null   int64\n",
      " 22  Comorb_Personal_History_Of_Other_Diseases_And_Conditions            3424 non-null   int64\n",
      " 23  Comorb_Other_Disorders_Of_Bone_Density_And_Structure                3424 non-null   int64\n",
      " 24  Comorb_Disorders_of_lipoprotein_metabolism_and_other_lipidemias     3424 non-null   int64\n",
      " 25  Comorb_Osteoporosis_without_current_pathological_fracture           3424 non-null   int64\n",
      " 26  Comorb_Personal_history_of_malignant_neoplasm                       3424 non-null   int64\n",
      " 27  Comorb_Gastro_esophageal_reflux_disease                             3424 non-null   int64\n",
      " 28  Concom_Cholesterol_And_Triglyceride_Regulating_Preparations         3424 non-null   int64\n",
      " 29  Concom_Narcotics                                                    3424 non-null   int64\n",
      " 30  Concom_Systemic_Corticosteroids_Plain                               3424 non-null   int64\n",
      " 31  Concom_Anti_Depressants_And_Mood_Stabilisers                        3424 non-null   int64\n",
      " 32  Concom_Fluoroquinolones                                             3424 non-null   int64\n",
      " 33  Concom_Cephalosporins                                               3424 non-null   int64\n",
      " 34  Concom_Macrolides_And_Similar_Types                                 3424 non-null   int64\n",
      " 35  Concom_Broad_Spectrum_Penicillins                                   3424 non-null   int64\n",
      " 36  Concom_Anaesthetics_General                                         3424 non-null   int64\n",
      " 37  Concom_Viral_Vaccines                                               3424 non-null   int64\n",
      " 38  Risk_Type_1_Insulin_Dependent_Diabetes                              3424 non-null   int64\n",
      " 39  Risk_Osteogenesis_Imperfecta                                        3424 non-null   int64\n",
      " 40  Risk_Rheumatoid_Arthritis                                           3424 non-null   int64\n",
      " 41  Risk_Untreated_Chronic_Hyperthyroidism                              3424 non-null   int64\n",
      " 42  Risk_Untreated_Chronic_Hypogonadism                                 3424 non-null   int64\n",
      " 43  Risk_Untreated_Early_Menopause                                      3424 non-null   int64\n",
      " 44  Risk_Patient_Parent_Fractured_Their_Hip                             3424 non-null   int64\n",
      " 45  Risk_Smoking_Tobacco                                                3424 non-null   int64\n",
      " 46  Risk_Chronic_Malnutrition_Or_Malabsorption                          3424 non-null   int64\n",
      " 47  Risk_Chronic_Liver_Disease                                          3424 non-null   int64\n",
      " 48  Risk_Family_History_Of_Osteoporosis                                 3424 non-null   int64\n",
      " 49  Risk_Low_Calcium_Intake                                             3424 non-null   int64\n",
      " 50  Risk_Vitamin_D_Insufficiency                                        3424 non-null   int64\n",
      " 51  Risk_Poor_Health_Frailty                                            3424 non-null   int64\n",
      " 52  Risk_Excessive_Thinness                                             3424 non-null   int64\n",
      " 53  Risk_Hysterectomy_Oophorectomy                                      3424 non-null   int64\n",
      " 54  Risk_Estrogen_Deficiency                                            3424 non-null   int64\n",
      " 55  Risk_Immobilization                                                 3424 non-null   int64\n",
      " 56  Risk_Recurring_Falls                                                3424 non-null   int64\n",
      " 57  Count_Of_Risks                                                      3424 non-null   int64\n",
      " 58  Male                                                                3424 non-null   uint8\n",
      " 59  Non-Adherent                                                        3424 non-null   uint8\n",
      " 60  Persistent                                                          3424 non-null   uint8\n",
      " 61  Not Hispanic                                                        3424 non-null   uint8\n",
      " 62  Specialist                                                          3424 non-null   uint8\n",
      "dtypes: int64(58), uint8(5)\n",
      "memory usage: 1.5 MB\n"
     ]
    }
   ],
   "source": [
    "train.info()"
   ]
  },
  {
   "cell_type": "code",
   "execution_count": 40,
   "id": "a4ed665c",
   "metadata": {},
   "outputs": [],
   "source": [
    "from sklearn.model_selection import train_test_split"
   ]
  },
  {
   "cell_type": "code",
   "execution_count": 82,
   "id": "1c3163cf",
   "metadata": {},
   "outputs": [],
   "source": [
    "X = train.drop('Persistent',axis=1)\n",
    "y = train['Persistent']"
   ]
  },
  {
   "cell_type": "code",
   "execution_count": 95,
   "id": "d8f836f9",
   "metadata": {},
   "outputs": [],
   "source": [
    "X_train, X_test, y_train, y_test = train_test_split(X,y, test_size=0.30, \n",
    "                                                    random_state=42)"
   ]
  },
  {
   "cell_type": "code",
   "execution_count": 104,
   "id": "04f4a5da",
   "metadata": {},
   "outputs": [
    {
     "name": "stdout",
     "output_type": "stream",
     "text": [
      "(2396, 62)\n",
      "(2396,)\n",
      "(1028, 62)\n",
      "(1028,)\n"
     ]
    }
   ],
   "source": [
    "print(X_train.shape)\n",
    "print(y_train.shape)\n",
    "print(X_test.shape)\n",
    "print(y_test.shape)"
   ]
  },
  {
   "cell_type": "code",
   "execution_count": 96,
   "id": "a0fe67dc",
   "metadata": {},
   "outputs": [],
   "source": [
    "from sklearn.linear_model import LogisticRegression"
   ]
  },
  {
   "cell_type": "code",
   "execution_count": 97,
   "id": "d30cca79",
   "metadata": {},
   "outputs": [],
   "source": [
    "logmodel = LogisticRegression(max_iter=1000)"
   ]
  },
  {
   "cell_type": "code",
   "execution_count": 98,
   "id": "1048e5c1",
   "metadata": {},
   "outputs": [
    {
     "data": {
      "text/plain": [
       "LogisticRegression(max_iter=1000)"
      ]
     },
     "execution_count": 98,
     "metadata": {},
     "output_type": "execute_result"
    }
   ],
   "source": [
    "logmodel.fit(X_train,y_train)"
   ]
  },
  {
   "cell_type": "code",
   "execution_count": 99,
   "id": "6ab33115",
   "metadata": {},
   "outputs": [],
   "source": [
    "predictions = logmodel.predict(X_test)"
   ]
  },
  {
   "cell_type": "code",
   "execution_count": 100,
   "id": "d5c7f70f",
   "metadata": {},
   "outputs": [],
   "source": [
    "from sklearn.metrics import classification_report"
   ]
  },
  {
   "cell_type": "code",
   "execution_count": 101,
   "id": "9a6ffd75",
   "metadata": {},
   "outputs": [
    {
     "name": "stdout",
     "output_type": "stream",
     "text": [
      "              precision    recall  f1-score   support\n",
      "\n",
      "           0       0.83      0.87      0.85       654\n",
      "           1       0.75      0.69      0.72       374\n",
      "\n",
      "    accuracy                           0.80      1028\n",
      "   macro avg       0.79      0.78      0.78      1028\n",
      "weighted avg       0.80      0.80      0.80      1028\n",
      "\n"
     ]
    }
   ],
   "source": [
    "print(classification_report(y_test,predictions))"
   ]
  },
  {
   "cell_type": "code",
   "execution_count": 102,
   "id": "1873d772",
   "metadata": {},
   "outputs": [],
   "source": [
    "from sklearn.metrics import confusion_matrix"
   ]
  },
  {
   "cell_type": "code",
   "execution_count": 103,
   "id": "a1e197de",
   "metadata": {},
   "outputs": [
    {
     "data": {
      "text/plain": [
       "array([[568,  86],\n",
       "       [116, 258]])"
      ]
     },
     "execution_count": 103,
     "metadata": {},
     "output_type": "execute_result"
    }
   ],
   "source": [
    "confusion_matrix(y_test,predictions)"
   ]
  },
  {
   "cell_type": "code",
   "execution_count": null,
   "id": "cd6ef1d8",
   "metadata": {},
   "outputs": [],
   "source": []
  }
 ],
 "metadata": {
  "kernelspec": {
   "display_name": "Python 3 (ipykernel)",
   "language": "python",
   "name": "python3"
  },
  "language_info": {
   "codemirror_mode": {
    "name": "ipython",
    "version": 3
   },
   "file_extension": ".py",
   "mimetype": "text/x-python",
   "name": "python",
   "nbconvert_exporter": "python",
   "pygments_lexer": "ipython3",
   "version": "3.9.13"
  }
 },
 "nbformat": 4,
 "nbformat_minor": 5
}

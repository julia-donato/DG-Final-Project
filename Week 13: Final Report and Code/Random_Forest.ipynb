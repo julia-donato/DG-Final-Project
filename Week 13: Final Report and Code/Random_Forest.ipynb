{
 "cells": [
  {
   "cell_type": "code",
   "execution_count": 14,
   "id": "4f22e19c",
   "metadata": {},
   "outputs": [],
   "source": [
    "import pandas as pd\n",
    "import numpy as np\n",
    "\n",
    "train = pd.read_csv('cleaned_dataset_final.csv')\n",
    "\n",
    "from sklearn.model_selection import train_test_split\n",
    "\n",
    "X = train.drop('Persistent',axis=1)\n",
    "y = train['Persistent']\n",
    "\n",
    "X_train, X_test, y_train, y_test = train_test_split(X,y, test_size=0.30)\n"
   ]
  },
  {
   "cell_type": "markdown",
   "id": "74c01a2f",
   "metadata": {},
   "source": [
    "#### Decision Tree"
   ]
  },
  {
   "cell_type": "code",
   "execution_count": 15,
   "id": "4ed91ca7",
   "metadata": {},
   "outputs": [],
   "source": [
    "from sklearn.tree import DecisionTreeClassifier"
   ]
  },
  {
   "cell_type": "code",
   "execution_count": 16,
   "id": "15be1653",
   "metadata": {},
   "outputs": [
    {
     "data": {
      "text/plain": [
       "DecisionTreeClassifier()"
      ]
     },
     "execution_count": 16,
     "metadata": {},
     "output_type": "execute_result"
    }
   ],
   "source": [
    "dtree = DecisionTreeClassifier()\n",
    "\n",
    "dtree.fit(X_train,y_train)"
   ]
  },
  {
   "cell_type": "code",
   "execution_count": 17,
   "id": "11bc7715",
   "metadata": {},
   "outputs": [
    {
     "name": "stdout",
     "output_type": "stream",
     "text": [
      "              precision    recall  f1-score   support\n",
      "\n",
      "           0       0.78      0.76      0.77       655\n",
      "           1       0.60      0.63      0.62       373\n",
      "\n",
      "    accuracy                           0.71      1028\n",
      "   macro avg       0.69      0.70      0.69      1028\n",
      "weighted avg       0.72      0.71      0.72      1028\n",
      "\n"
     ]
    }
   ],
   "source": [
    "predictions = dtree.predict(X_test)\n",
    "\n",
    "from sklearn.metrics import classification_report,confusion_matrix\n",
    "\n",
    "print(classification_report(y_test,predictions))"
   ]
  },
  {
   "cell_type": "code",
   "execution_count": 18,
   "id": "1baacfc9",
   "metadata": {},
   "outputs": [
    {
     "name": "stdout",
     "output_type": "stream",
     "text": [
      "[[499 156]\n",
      " [138 235]]\n"
     ]
    }
   ],
   "source": [
    "print(confusion_matrix(y_test,predictions))"
   ]
  },
  {
   "cell_type": "code",
   "execution_count": 19,
   "id": "00f636e3",
   "metadata": {},
   "outputs": [
    {
     "name": "stdout",
     "output_type": "stream",
     "text": [
      "ROC-AUC score: 0.6959294353600883\n"
     ]
    }
   ],
   "source": [
    "from sklearn.metrics import roc_auc_score\n",
    "\n",
    "y_proba = dtree.predict_proba(X_test)\n",
    "\n",
    "# Calculate ROC-AUC score\n",
    "roc_auc = roc_auc_score(y_test, y_proba[:, 1])\n",
    "print(\"ROC-AUC score:\", roc_auc)\n"
   ]
  },
  {
   "cell_type": "markdown",
   "id": "add2b853",
   "metadata": {},
   "source": [
    "#### Random Forest"
   ]
  },
  {
   "cell_type": "code",
   "execution_count": 20,
   "id": "e08c5e28",
   "metadata": {},
   "outputs": [
    {
     "data": {
      "text/plain": [
       "RandomForestClassifier(n_estimators=1000)"
      ]
     },
     "execution_count": 20,
     "metadata": {},
     "output_type": "execute_result"
    }
   ],
   "source": [
    "from sklearn.ensemble import RandomForestClassifier\n",
    "rfc = RandomForestClassifier(n_estimators=1000)\n",
    "rfc.fit(X_train, y_train)"
   ]
  },
  {
   "cell_type": "code",
   "execution_count": 21,
   "id": "655a7644",
   "metadata": {},
   "outputs": [],
   "source": [
    "rfc_pred = rfc.predict(X_test)"
   ]
  },
  {
   "cell_type": "code",
   "execution_count": 26,
   "id": "653b8432",
   "metadata": {},
   "outputs": [
    {
     "data": {
      "image/png": "[encoded data removed]",
      "text/plain": [
       "<Figure size 640x480 with 2 Axes>"
      ]
     },
     "metadata": {},
     "output_type": "display_data"
    }
   ],
   "source": [
    "import seaborn as sns\n",
    "import matplotlib.pyplot as plt\n",
    "from sklearn.metrics import confusion_matrix\n",
    "\n",
    "# Create the confusion matrix\n",
    "cm = confusion_matrix(y_test, rfc_pred)\n",
    "\n",
    "# Create a heatmap of the confusion matrix\n",
    "sns.heatmap(cm, annot=True, cmap='Blues', fmt='d')\n",
    "\n",
    "# Add labels and title\n",
    "plt.xlabel('Predicted')\n",
    "plt.ylabel('Actual')\n",
    "plt.title('Confusion Matrix')\n",
    "\n",
    "# Show the plot\n",
    "plt.show()\n"
   ]
  },
  {
   "cell_type": "code",
   "execution_count": 27,
   "id": "75d4f495",
   "metadata": {},
   "outputs": [
    {
     "name": "stdout",
     "output_type": "stream",
     "text": [
      "              precision    recall  f1-score   support\n",
      "\n",
      "           0       0.82      0.89      0.85       655\n",
      "           1       0.77      0.66      0.71       373\n",
      "\n",
      "    accuracy                           0.80      1028\n",
      "   macro avg       0.79      0.77      0.78      1028\n",
      "weighted avg       0.80      0.80      0.80      1028\n",
      "\n"
     ]
    },
    {
     "data": {
      "text/html": [
       "<style type=\"text/css\">\n",
       "#T_a0edb th {\n",
       "  text-align: center;\n",
       "}\n",
       "</style>\n",
       "<table id=\"T_a0edb\">\n",
       "  <caption>Classification Report</caption>\n",
       "  <thead>\n",
       "    <tr>\n",
       "      <th class=\"blank level0\" >&nbsp;</th>\n",
       "      <th id=\"T_a0edb_level0_col0\" class=\"col_heading level0 col0\" >Class 0</th>\n",
       "      <th id=\"T_a0edb_level0_col1\" class=\"col_heading level0 col1\" >Class 1</th>\n",
       "      <th id=\"T_a0edb_level0_col2\" class=\"col_heading level0 col2\" >accuracy</th>\n",
       "      <th id=\"T_a0edb_level0_col3\" class=\"col_heading level0 col3\" >macro avg</th>\n",
       "      <th id=\"T_a0edb_level0_col4\" class=\"col_heading level0 col4\" >weighted avg</th>\n",
       "    </tr>\n",
       "  </thead>\n",
       "  <tbody>\n",
       "    <tr>\n",
       "      <th id=\"T_a0edb_level0_row0\" class=\"row_heading level0 row0\" >precision</th>\n",
       "      <td id=\"T_a0edb_row0_col0\" class=\"data row0 col0\" >0.819209</td>\n",
       "      <td id=\"T_a0edb_row0_col1\" class=\"data row0 col1\" >0.765625</td>\n",
       "      <td id=\"T_a0edb_row0_col2\" class=\"data row0 col2\" >0.802529</td>\n",
       "      <td id=\"T_a0edb_row0_col3\" class=\"data row0 col3\" >0.792417</td>\n",
       "      <td id=\"T_a0edb_row0_col4\" class=\"data row0 col4\" >0.799767</td>\n",
       "    </tr>\n",
       "    <tr>\n",
       "      <th id=\"T_a0edb_level0_row1\" class=\"row_heading level0 row1\" >recall</th>\n",
       "      <td id=\"T_a0edb_row1_col0\" class=\"data row1 col0\" >0.885496</td>\n",
       "      <td id=\"T_a0edb_row1_col1\" class=\"data row1 col1\" >0.656836</td>\n",
       "      <td id=\"T_a0edb_row1_col2\" class=\"data row1 col2\" >0.802529</td>\n",
       "      <td id=\"T_a0edb_row1_col3\" class=\"data row1 col3\" >0.771166</td>\n",
       "      <td id=\"T_a0edb_row1_col4\" class=\"data row1 col4\" >0.802529</td>\n",
       "    </tr>\n",
       "    <tr>\n",
       "      <th id=\"T_a0edb_level0_row2\" class=\"row_heading level0 row2\" >f1-score</th>\n",
       "      <td id=\"T_a0edb_row2_col0\" class=\"data row2 col0\" >0.851064</td>\n",
       "      <td id=\"T_a0edb_row2_col1\" class=\"data row2 col1\" >0.707071</td>\n",
       "      <td id=\"T_a0edb_row2_col2\" class=\"data row2 col2\" >0.802529</td>\n",
       "      <td id=\"T_a0edb_row2_col3\" class=\"data row2 col3\" >0.779067</td>\n",
       "      <td id=\"T_a0edb_row2_col4\" class=\"data row2 col4\" >0.798817</td>\n",
       "    </tr>\n",
       "    <tr>\n",
       "      <th id=\"T_a0edb_level0_row3\" class=\"row_heading level0 row3\" >support</th>\n",
       "      <td id=\"T_a0edb_row3_col0\" class=\"data row3 col0\" >655.000000</td>\n",
       "      <td id=\"T_a0edb_row3_col1\" class=\"data row3 col1\" >373.000000</td>\n",
       "      <td id=\"T_a0edb_row3_col2\" class=\"data row3 col2\" >0.802529</td>\n",
       "      <td id=\"T_a0edb_row3_col3\" class=\"data row3 col3\" >1028.000000</td>\n",
       "      <td id=\"T_a0edb_row3_col4\" class=\"data row3 col4\" >1028.000000</td>\n",
       "    </tr>\n",
       "  </tbody>\n",
       "</table>\n"
      ],
      "text/plain": [
       "<pandas.io.formats.style.Styler at 0x7fb49ca182b0>"
      ]
     },
     "metadata": {},
     "output_type": "display_data"
    }
   ],
   "source": [
    "print(classification_report(y_test,rfc_pred))\n",
    "df = pd.DataFrame.from_dict(classification_report(y_test, rfc_pred, target_names=['Class 0', 'Class 1'], output_dict=True))\n",
    "styled_df = df.style.set_caption('Classification Report').set_table_styles([{'selector': 'th', 'props': [('text-align', 'center')]}])\n",
    "\n",
    "# Display the styled DataFrame\n",
    "display(styled_df)"
   ]
  },
  {
   "cell_type": "code",
   "execution_count": 24,
   "id": "06bbb16a",
   "metadata": {},
   "outputs": [
    {
     "name": "stdout",
     "output_type": "stream",
     "text": [
      "ROC-AUC score: 0.8572641876266296\n"
     ]
    }
   ],
   "source": [
    "from sklearn.metrics import roc_auc_score\n",
    "\n",
    "y_proba = rfc.predict_proba(X_test)\n",
    "\n",
    "# Calculate ROC-AUC score\n",
    "roc_auc = roc_auc_score(y_test, y_proba[:, 1])\n",
    "print(\"ROC-AUC score:\", roc_auc)\n"
   ]
  },
  {
   "cell_type": "code",
   "execution_count": null,
   "id": "7f7be034",
   "metadata": {},
   "outputs": [],
   "source": []
  }
 ],
 "metadata": {
  "kernelspec": {
   "display_name": "Python 3 (ipykernel)",
   "language": "python",
   "name": "python3"
  },
  "language_info": {
   "codemirror_mode": {
    "name": "ipython",
    "version": 3
   },
   "file_extension": ".py",
   "mimetype": "text/x-python",
   "name": "python",
   "nbconvert_exporter": "python",
   "pygments_lexer": "ipython3",
   "version": "3.9.13"
  }
 },
 "nbformat": 4,
 "nbformat_minor": 5
}

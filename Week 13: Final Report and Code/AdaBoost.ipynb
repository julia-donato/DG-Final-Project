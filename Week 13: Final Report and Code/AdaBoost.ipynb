{
 "cells": [
  {
   "cell_type": "code",
   "execution_count": 19,
   "id": "4de59165",
   "metadata": {},
   "outputs": [
    {
     "name": "stdout",
     "output_type": "stream",
     "text": [
      "<class 'pandas.core.frame.DataFrame'>\n",
      "RangeIndex: 3424 entries, 0 to 3423\n",
      "Data columns (total 63 columns):\n",
      " #   Column                                                              Non-Null Count  Dtype\n",
      "---  ------                                                              --------------  -----\n",
      " 0   Race                                                                3424 non-null   int64\n",
      " 1   Age_Bucket                                                          3424 non-null   int64\n",
      " 2   Ntm_Speciality_Bucket                                               3424 non-null   int64\n",
      " 3   Gluco_Record_Prior_Ntm                                              3424 non-null   int64\n",
      " 4   Gluco_Record_During_Rx                                              3424 non-null   int64\n",
      " 5   Dexa_Freq_During_Rx                                                 3424 non-null   int64\n",
      " 6   Dexa_During_Rx                                                      3424 non-null   int64\n",
      " 7   Frag_Frac_Prior_Ntm                                                 3424 non-null   int64\n",
      " 8   Frag_Frac_During_Rx                                                 3424 non-null   int64\n",
      " 9   Risk_Segment_Prior_Ntm                                              3424 non-null   int64\n",
      " 10  Tscore_Bucket_Prior_Ntm                                             3424 non-null   int64\n",
      " 11  Change_T_Score                                                      3424 non-null   int64\n",
      " 12  Idn_Indicator                                                       3424 non-null   int64\n",
      " 13  Injectable_Experience_During_Rx                                     3424 non-null   int64\n",
      " 14  Comorb_Encounter_For_Screening_For_Malignant_Neoplasms              3424 non-null   int64\n",
      " 15  Comorb_Encounter_For_Immunization                                   3424 non-null   int64\n",
      " 16  Comorb_Encntr_For_General_Exam_W_O_Complaint,_Susp_Or_Reprtd_Dx     3424 non-null   int64\n",
      " 17  Comorb_Vitamin_D_Deficiency                                         3424 non-null   int64\n",
      " 18  Comorb_Other_Joint_Disorder_Not_Elsewhere_Classified                3424 non-null   int64\n",
      " 19  Comorb_Encntr_For_Oth_Sp_Exam_W_O_Complaint_Suspected_Or_Reprtd_Dx  3424 non-null   int64\n",
      " 20  Comorb_Long_Term_Current_Drug_Therapy                               3424 non-null   int64\n",
      " 21  Comorb_Dorsalgia                                                    3424 non-null   int64\n",
      " 22  Comorb_Personal_History_Of_Other_Diseases_And_Conditions            3424 non-null   int64\n",
      " 23  Comorb_Other_Disorders_Of_Bone_Density_And_Structure                3424 non-null   int64\n",
      " 24  Comorb_Disorders_of_lipoprotein_metabolism_and_other_lipidemias     3424 non-null   int64\n",
      " 25  Comorb_Osteoporosis_without_current_pathological_fracture           3424 non-null   int64\n",
      " 26  Comorb_Personal_history_of_malignant_neoplasm                       3424 non-null   int64\n",
      " 27  Comorb_Gastro_esophageal_reflux_disease                             3424 non-null   int64\n",
      " 28  Concom_Cholesterol_And_Triglyceride_Regulating_Preparations         3424 non-null   int64\n",
      " 29  Concom_Narcotics                                                    3424 non-null   int64\n",
      " 30  Concom_Systemic_Corticosteroids_Plain                               3424 non-null   int64\n",
      " 31  Concom_Anti_Depressants_And_Mood_Stabilisers                        3424 non-null   int64\n",
      " 32  Concom_Fluoroquinolones                                             3424 non-null   int64\n",
      " 33  Concom_Cephalosporins                                               3424 non-null   int64\n",
      " 34  Concom_Macrolides_And_Similar_Types                                 3424 non-null   int64\n",
      " 35  Concom_Broad_Spectrum_Penicillins                                   3424 non-null   int64\n",
      " 36  Concom_Anaesthetics_General                                         3424 non-null   int64\n",
      " 37  Concom_Viral_Vaccines                                               3424 non-null   int64\n",
      " 38  Risk_Type_1_Insulin_Dependent_Diabetes                              3424 non-null   int64\n",
      " 39  Risk_Osteogenesis_Imperfecta                                        3424 non-null   int64\n",
      " 40  Risk_Rheumatoid_Arthritis                                           3424 non-null   int64\n",
      " 41  Risk_Untreated_Chronic_Hyperthyroidism                              3424 non-null   int64\n",
      " 42  Risk_Untreated_Chronic_Hypogonadism                                 3424 non-null   int64\n",
      " 43  Risk_Untreated_Early_Menopause                                      3424 non-null   int64\n",
      " 44  Risk_Patient_Parent_Fractured_Their_Hip                             3424 non-null   int64\n",
      " 45  Risk_Smoking_Tobacco                                                3424 non-null   int64\n",
      " 46  Risk_Chronic_Malnutrition_Or_Malabsorption                          3424 non-null   int64\n",
      " 47  Risk_Chronic_Liver_Disease                                          3424 non-null   int64\n",
      " 48  Risk_Family_History_Of_Osteoporosis                                 3424 non-null   int64\n",
      " 49  Risk_Low_Calcium_Intake                                             3424 non-null   int64\n",
      " 50  Risk_Vitamin_D_Insufficiency                                        3424 non-null   int64\n",
      " 51  Risk_Poor_Health_Frailty                                            3424 non-null   int64\n",
      " 52  Risk_Excessive_Thinness                                             3424 non-null   int64\n",
      " 53  Risk_Hysterectomy_Oophorectomy                                      3424 non-null   int64\n",
      " 54  Risk_Estrogen_Deficiency                                            3424 non-null   int64\n",
      " 55  Risk_Immobilization                                                 3424 non-null   int64\n",
      " 56  Risk_Recurring_Falls                                                3424 non-null   int64\n",
      " 57  Count_Of_Risks                                                      3424 non-null   int64\n",
      " 58  Male                                                                3424 non-null   uint8\n",
      " 59  Non-Adherent                                                        3424 non-null   uint8\n",
      " 60  Persistent                                                          3424 non-null   uint8\n",
      " 61  Not Hispanic                                                        3424 non-null   uint8\n",
      " 62  Specialist                                                          3424 non-null   uint8\n",
      "dtypes: int64(58), uint8(5)\n",
      "memory usage: 1.5 MB\n",
      "(2396, 62)\n",
      "(2396,)\n",
      "(1028, 62)\n",
      "(1028,)\n"
     ]
    }
   ],
   "source": [
    "import pandas as pd\n",
    "import numpy as np\n",
    "\n",
    "train = pd.read_csv('cleaned_dataset.csv')\n",
    "\n",
    "train.Ntm_Speciality_Bucket.unique()\n",
    "\n",
    "train['Ntm_Speciality_Bucket'] = train['Ntm_Speciality_Bucket'].replace({'OB/GYN/Others/PCP/Unknown': 0, 'Endo/Onc/Uro': 1 ,'Rheum':2})\n",
    "\n",
    "train.Change_T_Score.unique()\n",
    "\n",
    "train['Change_T_Score'] = train['Change_T_Score'].replace({'No change': 0, 'Unknown': 1 ,'Worsened':2, 'Improved':3})\n",
    "\n",
    "train.Region.unique()\n",
    "\n",
    "train['Region'] = train['Region'].replace({'West': 0, 'Midwest': 1 ,'South':2, 'Northeast':3})\n",
    "\n",
    "train.Race.unique()\n",
    "\n",
    "train['Race'] = train['Race'].replace({'Caucasian': 0, 'Asian': 1 ,'African American':2})\n",
    "\n",
    "gender = pd.get_dummies(train['Gender'],drop_first=True)\n",
    "adherent = pd.get_dummies(train['Adherent_Flag'],drop_first=True)\n",
    "persistent = pd.get_dummies(train['Persistency_Flag'],drop_first=True)\n",
    "ethnicity = pd.get_dummies(train['Ethnicity'],drop_first=True)\n",
    "specialist = pd.get_dummies(train['Ntm_Specialist_Flag'],drop_first=True)\n",
    "\n",
    "train.drop(['Gender','Adherent_Flag','Persistency_Flag','Ethnicity','Region','Ptid','Ntm_Speciality','Ntm_Specialist_Flag' ],axis=1,inplace=True)\n",
    "\n",
    "train = pd.concat([train,gender,adherent,persistent,ethnicity,specialist],axis=1)\n",
    "\n",
    "train.info()\n",
    "\n",
    "from sklearn.model_selection import train_test_split\n",
    "\n",
    "X = train.drop('Persistent',axis=1)\n",
    "y = train['Persistent']\n",
    "\n",
    "X_train, X_test, y_train, y_test = train_test_split(X,y, test_size=0.30)\n",
    "\n",
    "print(X_train.shape)\n",
    "print(y_train.shape)\n",
    "print(X_test.shape)\n",
    "print(y_test.shape)"
   ]
  },
  {
   "cell_type": "code",
   "execution_count": 44,
   "id": "dc2e677a",
   "metadata": {},
   "outputs": [],
   "source": [
    "from sklearn.ensemble import AdaBoostClassifier\n",
    "from sklearn.tree import DecisionTreeClassifier\n",
    "from genetic_selection import GeneticSelectionCV\n",
    "from sklearn.svm import SVC"
   ]
  },
  {
   "cell_type": "code",
   "execution_count": 21,
   "id": "1e63965b",
   "metadata": {},
   "outputs": [],
   "source": [
    "ada = AdaBoostClassifier(base_estimator=DecisionTreeClassifier(max_depth=1), n_estimators=1000, learning_rate=1.0)"
   ]
  },
  {
   "cell_type": "code",
   "execution_count": 55,
   "id": "577df55c",
   "metadata": {},
   "outputs": [],
   "source": [
    "estimator = DecisionTreeClassifier()"
   ]
  },
  {
   "cell_type": "code",
   "execution_count": 56,
   "id": "27d44c20",
   "metadata": {},
   "outputs": [],
   "source": [
    "model = GeneticSelectionCV(\n",
    "    estimator, cv=5, verbose=0,\n",
    "    scoring=\"f1\", max_features=20,\n",
    "    n_population=100, crossover_proba=0.5,\n",
    "    mutation_proba=0.2, n_generations=50,\n",
    "    crossover_independent_proba=0.5,\n",
    "    mutation_independent_proba=0.04,\n",
    "    tournament_size=3, n_gen_no_change=10,\n",
    "    caching=True, n_jobs=-1)"
   ]
  },
  {
   "cell_type": "code",
   "execution_count": 67,
   "id": "7a328d12",
   "metadata": {},
   "outputs": [],
   "source": [
    "X_train.reset_index(drop=True, inplace=True)"
   ]
  },
  {
   "cell_type": "code",
   "execution_count": 68,
   "id": "2173002c",
   "metadata": {},
   "outputs": [
    {
     "data": {
      "text/plain": [
       "GeneticSelectionCV(caching=True, crossover_independent_proba=0.5, cv=5,\n",
       "                   estimator=DecisionTreeClassifier(), max_features=20,\n",
       "                   mutation_independent_proba=0.04, n_gen_no_change=10,\n",
       "                   n_generations=50, n_jobs=-1, n_population=100, scoring='f1')"
      ]
     },
     "execution_count": 68,
     "metadata": {},
     "output_type": "execute_result"
    }
   ],
   "source": [
    "model.fit(X_train, y_train)"
   ]
  },
  {
   "cell_type": "code",
   "execution_count": 69,
   "id": "af366e3e",
   "metadata": {},
   "outputs": [
    {
     "name": "stdout",
     "output_type": "stream",
     "text": [
      "Features: Index(['Dexa_During_Rx', 'Injectable_Experience_During_Rx',\n",
      "       'Comorb_Encounter_For_Screening_For_Malignant_Neoplasms',\n",
      "       'Comorb_Encounter_For_Immunization',\n",
      "       'Comorb_Long_Term_Current_Drug_Therapy',\n",
      "       'Concom_Systemic_Corticosteroids_Plain', 'Risk_Recurring_Falls'],\n",
      "      dtype='object')\n"
     ]
    }
   ],
   "source": [
    "print('Features:', X.columns[model.support_])"
   ]
  },
  {
   "cell_type": "code",
   "execution_count": 70,
   "id": "ab120520",
   "metadata": {},
   "outputs": [
    {
     "name": "stderr",
     "output_type": "stream",
     "text": [
      "/Users/juliadonato/opt/anaconda3/lib/python3.9/site-packages/sklearn/base.py:443: UserWarning: X has feature names, but GeneticSelectionCV was fitted without feature names\n",
      "  warnings.warn(\n"
     ]
    }
   ],
   "source": [
    "predictions = model.predict(X_train)"
   ]
  },
  {
   "cell_type": "code",
   "execution_count": 71,
   "id": "957f79dd",
   "metadata": {},
   "outputs": [],
   "source": [
    "from sklearn.metrics import classification_report,confusion_matrix"
   ]
  },
  {
   "cell_type": "code",
   "execution_count": 72,
   "id": "026316cc",
   "metadata": {},
   "outputs": [
    {
     "ename": "ValueError",
     "evalue": "Found input variables with inconsistent numbers of samples: [1028, 2396]",
     "output_type": "error",
     "traceback": [
      "\u001b[0;31m---------------------------------------------------------------------------\u001b[0m",
      "\u001b[0;31mValueError\u001b[0m                                Traceback (most recent call last)",
      "\u001b[0;32m/var/folders/5p/90fk0v0n54s1q24dvf9zdlgc0000gn/T/ipykernel_31584/213323377.py\u001b[0m in \u001b[0;36m<module>\u001b[0;34m\u001b[0m\n\u001b[0;32m----> 1\u001b[0;31m \u001b[0mprint\u001b[0m\u001b[0;34m(\u001b[0m\u001b[0mclassification_report\u001b[0m\u001b[0;34m(\u001b[0m\u001b[0my_test\u001b[0m\u001b[0;34m,\u001b[0m\u001b[0mpredictions\u001b[0m\u001b[0;34m)\u001b[0m\u001b[0;34m)\u001b[0m\u001b[0;34m\u001b[0m\u001b[0;34m\u001b[0m\u001b[0m\n\u001b[0m",
      "\u001b[0;32m~/opt/anaconda3/lib/python3.9/site-packages/sklearn/metrics/_classification.py\u001b[0m in \u001b[0;36mclassification_report\u001b[0;34m(y_true, y_pred, labels, target_names, sample_weight, digits, output_dict, zero_division)\u001b[0m\n\u001b[1;32m   2108\u001b[0m     \"\"\"\n\u001b[1;32m   2109\u001b[0m \u001b[0;34m\u001b[0m\u001b[0m\n\u001b[0;32m-> 2110\u001b[0;31m     \u001b[0my_type\u001b[0m\u001b[0;34m,\u001b[0m \u001b[0my_true\u001b[0m\u001b[0;34m,\u001b[0m \u001b[0my_pred\u001b[0m \u001b[0;34m=\u001b[0m \u001b[0m_check_targets\u001b[0m\u001b[0;34m(\u001b[0m\u001b[0my_true\u001b[0m\u001b[0;34m,\u001b[0m \u001b[0my_pred\u001b[0m\u001b[0;34m)\u001b[0m\u001b[0;34m\u001b[0m\u001b[0;34m\u001b[0m\u001b[0m\n\u001b[0m\u001b[1;32m   2111\u001b[0m \u001b[0;34m\u001b[0m\u001b[0m\n\u001b[1;32m   2112\u001b[0m     \u001b[0;32mif\u001b[0m \u001b[0mlabels\u001b[0m \u001b[0;32mis\u001b[0m \u001b[0;32mNone\u001b[0m\u001b[0;34m:\u001b[0m\u001b[0;34m\u001b[0m\u001b[0;34m\u001b[0m\u001b[0m\n",
      "\u001b[0;32m~/opt/anaconda3/lib/python3.9/site-packages/sklearn/metrics/_classification.py\u001b[0m in \u001b[0;36m_check_targets\u001b[0;34m(y_true, y_pred)\u001b[0m\n\u001b[1;32m     82\u001b[0m     \u001b[0my_pred\u001b[0m \u001b[0;34m:\u001b[0m \u001b[0marray\u001b[0m \u001b[0;32mor\u001b[0m \u001b[0mindicator\u001b[0m \u001b[0mmatrix\u001b[0m\u001b[0;34m\u001b[0m\u001b[0;34m\u001b[0m\u001b[0m\n\u001b[1;32m     83\u001b[0m     \"\"\"\n\u001b[0;32m---> 84\u001b[0;31m     \u001b[0mcheck_consistent_length\u001b[0m\u001b[0;34m(\u001b[0m\u001b[0my_true\u001b[0m\u001b[0;34m,\u001b[0m \u001b[0my_pred\u001b[0m\u001b[0;34m)\u001b[0m\u001b[0;34m\u001b[0m\u001b[0;34m\u001b[0m\u001b[0m\n\u001b[0m\u001b[1;32m     85\u001b[0m     \u001b[0mtype_true\u001b[0m \u001b[0;34m=\u001b[0m \u001b[0mtype_of_target\u001b[0m\u001b[0;34m(\u001b[0m\u001b[0my_true\u001b[0m\u001b[0;34m)\u001b[0m\u001b[0;34m\u001b[0m\u001b[0;34m\u001b[0m\u001b[0m\n\u001b[1;32m     86\u001b[0m     \u001b[0mtype_pred\u001b[0m \u001b[0;34m=\u001b[0m \u001b[0mtype_of_target\u001b[0m\u001b[0;34m(\u001b[0m\u001b[0my_pred\u001b[0m\u001b[0;34m)\u001b[0m\u001b[0;34m\u001b[0m\u001b[0;34m\u001b[0m\u001b[0m\n",
      "\u001b[0;32m~/opt/anaconda3/lib/python3.9/site-packages/sklearn/utils/validation.py\u001b[0m in \u001b[0;36mcheck_consistent_length\u001b[0;34m(*arrays)\u001b[0m\n\u001b[1;32m    330\u001b[0m     \u001b[0muniques\u001b[0m \u001b[0;34m=\u001b[0m \u001b[0mnp\u001b[0m\u001b[0;34m.\u001b[0m\u001b[0munique\u001b[0m\u001b[0;34m(\u001b[0m\u001b[0mlengths\u001b[0m\u001b[0;34m)\u001b[0m\u001b[0;34m\u001b[0m\u001b[0;34m\u001b[0m\u001b[0m\n\u001b[1;32m    331\u001b[0m     \u001b[0;32mif\u001b[0m \u001b[0mlen\u001b[0m\u001b[0;34m(\u001b[0m\u001b[0muniques\u001b[0m\u001b[0;34m)\u001b[0m \u001b[0;34m>\u001b[0m \u001b[0;36m1\u001b[0m\u001b[0;34m:\u001b[0m\u001b[0;34m\u001b[0m\u001b[0;34m\u001b[0m\u001b[0m\n\u001b[0;32m--> 332\u001b[0;31m         raise ValueError(\n\u001b[0m\u001b[1;32m    333\u001b[0m             \u001b[0;34m\"Found input variables with inconsistent numbers of samples: %r\"\u001b[0m\u001b[0;34m\u001b[0m\u001b[0;34m\u001b[0m\u001b[0m\n\u001b[1;32m    334\u001b[0m             \u001b[0;34m%\u001b[0m \u001b[0;34m[\u001b[0m\u001b[0mint\u001b[0m\u001b[0;34m(\u001b[0m\u001b[0ml\u001b[0m\u001b[0;34m)\u001b[0m \u001b[0;32mfor\u001b[0m \u001b[0ml\u001b[0m \u001b[0;32min\u001b[0m \u001b[0mlengths\u001b[0m\u001b[0;34m]\u001b[0m\u001b[0;34m\u001b[0m\u001b[0;34m\u001b[0m\u001b[0m\n",
      "\u001b[0;31mValueError\u001b[0m: Found input variables with inconsistent numbers of samples: [1028, 2396]"
     ]
    }
   ],
   "source": [
    "print(classification_report(y_test,predictions))"
   ]
  },
  {
   "cell_type": "code",
   "execution_count": 43,
   "id": "e89b60ab",
   "metadata": {},
   "outputs": [
    {
     "name": "stdout",
     "output_type": "stream",
     "text": [
      "[[585  53]\n",
      " [169 221]]\n"
     ]
    }
   ],
   "source": [
    "print(confusion_matrix(y_test,predictions))"
   ]
  },
  {
   "cell_type": "code",
   "execution_count": null,
   "id": "37d3cf5d",
   "metadata": {},
   "outputs": [],
   "source": []
  }
 ],
 "metadata": {
  "kernelspec": {
   "display_name": "Python 3 (ipykernel)",
   "language": "python",
   "name": "python3"
  },
  "language_info": {
   "codemirror_mode": {
    "name": "ipython",
    "version": 3
   },
   "file_extension": ".py",
   "mimetype": "text/x-python",
   "name": "python",
   "nbconvert_exporter": "python",
   "pygments_lexer": "ipython3",
   "version": "3.9.13"
  }
 },
 "nbformat": 4,
 "nbformat_minor": 5
}

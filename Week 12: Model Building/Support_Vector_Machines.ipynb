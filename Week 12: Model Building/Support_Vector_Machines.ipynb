{
 "cells": [
  {
   "cell_type": "code",
   "execution_count": 1,
   "id": "e90b0adb",
   "metadata": {},
   "outputs": [],
   "source": [
    "import pandas as pd\n",
    "import numpy as np"
   ]
  },
  {
   "cell_type": "code",
   "execution_count": 3,
   "id": "f33960b1",
   "metadata": {},
   "outputs": [],
   "source": [
    "train = pd.read_csv('cleaned_dataset.csv')"
   ]
  },
  {
   "cell_type": "code",
   "execution_count": 4,
   "id": "a650f587",
   "metadata": {},
   "outputs": [],
   "source": [
    "train.Ntm_Speciality_Bucket.unique()\n",
    "\n",
    "train['Ntm_Speciality_Bucket'] = train['Ntm_Speciality_Bucket'].replace({'OB/GYN/Others/PCP/Unknown': 0, 'Endo/Onc/Uro': 1 ,'Rheum':2})\n",
    "\n",
    "train.Change_T_Score.unique()\n",
    "\n",
    "train['Change_T_Score'] = train['Change_T_Score'].replace({'No change': 0, 'Unknown': 1 ,'Worsened':2, 'Improved':3})\n",
    "\n",
    "train.Region.unique()\n",
    "\n",
    "train['Region'] = train['Region'].replace({'West': 0, 'Midwest': 1 ,'South':2, 'Northeast':3})\n",
    "\n",
    "train.Race.unique()\n",
    "\n",
    "train['Race'] = train['Race'].replace({'Caucasian': 0, 'Asian': 1 ,'African American':2})\n",
    "\n",
    "gender = pd.get_dummies(train['Gender'],drop_first=True)\n",
    "adherent = pd.get_dummies(train['Adherent_Flag'],drop_first=True)\n",
    "persistent = pd.get_dummies(train['Persistency_Flag'],drop_first=True)\n",
    "ethnicity = pd.get_dummies(train['Ethnicity'],drop_first=True)\n",
    "specialist = pd.get_dummies(train['Ntm_Specialist_Flag'],drop_first=True)\n",
    "\n",
    "train.drop(['Gender','Adherent_Flag','Persistency_Flag','Ethnicity','Region','Ptid','Ntm_Speciality','Ntm_Specialist_Flag' ],axis=1,inplace=True)\n",
    "\n",
    "train = pd.concat([train,gender,adherent,persistent,ethnicity,specialist],axis=1)"
   ]
  },
  {
   "cell_type": "code",
   "execution_count": 5,
   "id": "18eea8a8",
   "metadata": {
    "scrolled": false
   },
   "outputs": [
    {
     "name": "stdout",
     "output_type": "stream",
     "text": [
      "<class 'pandas.core.frame.DataFrame'>\n",
      "RangeIndex: 3424 entries, 0 to 3423\n",
      "Data columns (total 63 columns):\n",
      " #   Column                                                              Non-Null Count  Dtype\n",
      "---  ------                                                              --------------  -----\n",
      " 0   Race                                                                3424 non-null   int64\n",
      " 1   Age_Bucket                                                          3424 non-null   int64\n",
      " 2   Ntm_Speciality_Bucket                                               3424 non-null   int64\n",
      " 3   Gluco_Record_Prior_Ntm                                              3424 non-null   int64\n",
      " 4   Gluco_Record_During_Rx                                              3424 non-null   int64\n",
      " 5   Dexa_Freq_During_Rx                                                 3424 non-null   int64\n",
      " 6   Dexa_During_Rx                                                      3424 non-null   int64\n",
      " 7   Frag_Frac_Prior_Ntm                                                 3424 non-null   int64\n",
      " 8   Frag_Frac_During_Rx                                                 3424 non-null   int64\n",
      " 9   Risk_Segment_Prior_Ntm                                              3424 non-null   int64\n",
      " 10  Tscore_Bucket_Prior_Ntm                                             3424 non-null   int64\n",
      " 11  Change_T_Score                                                      3424 non-null   int64\n",
      " 12  Idn_Indicator                                                       3424 non-null   int64\n",
      " 13  Injectable_Experience_During_Rx                                     3424 non-null   int64\n",
      " 14  Comorb_Encounter_For_Screening_For_Malignant_Neoplasms              3424 non-null   int64\n",
      " 15  Comorb_Encounter_For_Immunization                                   3424 non-null   int64\n",
      " 16  Comorb_Encntr_For_General_Exam_W_O_Complaint,_Susp_Or_Reprtd_Dx     3424 non-null   int64\n",
      " 17  Comorb_Vitamin_D_Deficiency                                         3424 non-null   int64\n",
      " 18  Comorb_Other_Joint_Disorder_Not_Elsewhere_Classified                3424 non-null   int64\n",
      " 19  Comorb_Encntr_For_Oth_Sp_Exam_W_O_Complaint_Suspected_Or_Reprtd_Dx  3424 non-null   int64\n",
      " 20  Comorb_Long_Term_Current_Drug_Therapy                               3424 non-null   int64\n",
      " 21  Comorb_Dorsalgia                                                    3424 non-null   int64\n",
      " 22  Comorb_Personal_History_Of_Other_Diseases_And_Conditions            3424 non-null   int64\n",
      " 23  Comorb_Other_Disorders_Of_Bone_Density_And_Structure                3424 non-null   int64\n",
      " 24  Comorb_Disorders_of_lipoprotein_metabolism_and_other_lipidemias     3424 non-null   int64\n",
      " 25  Comorb_Osteoporosis_without_current_pathological_fracture           3424 non-null   int64\n",
      " 26  Comorb_Personal_history_of_malignant_neoplasm                       3424 non-null   int64\n",
      " 27  Comorb_Gastro_esophageal_reflux_disease                             3424 non-null   int64\n",
      " 28  Concom_Cholesterol_And_Triglyceride_Regulating_Preparations         3424 non-null   int64\n",
      " 29  Concom_Narcotics                                                    3424 non-null   int64\n",
      " 30  Concom_Systemic_Corticosteroids_Plain                               3424 non-null   int64\n",
      " 31  Concom_Anti_Depressants_And_Mood_Stabilisers                        3424 non-null   int64\n",
      " 32  Concom_Fluoroquinolones                                             3424 non-null   int64\n",
      " 33  Concom_Cephalosporins                                               3424 non-null   int64\n",
      " 34  Concom_Macrolides_And_Similar_Types                                 3424 non-null   int64\n",
      " 35  Concom_Broad_Spectrum_Penicillins                                   3424 non-null   int64\n",
      " 36  Concom_Anaesthetics_General                                         3424 non-null   int64\n",
      " 37  Concom_Viral_Vaccines                                               3424 non-null   int64\n",
      " 38  Risk_Type_1_Insulin_Dependent_Diabetes                              3424 non-null   int64\n",
      " 39  Risk_Osteogenesis_Imperfecta                                        3424 non-null   int64\n",
      " 40  Risk_Rheumatoid_Arthritis                                           3424 non-null   int64\n",
      " 41  Risk_Untreated_Chronic_Hyperthyroidism                              3424 non-null   int64\n",
      " 42  Risk_Untreated_Chronic_Hypogonadism                                 3424 non-null   int64\n",
      " 43  Risk_Untreated_Early_Menopause                                      3424 non-null   int64\n",
      " 44  Risk_Patient_Parent_Fractured_Their_Hip                             3424 non-null   int64\n",
      " 45  Risk_Smoking_Tobacco                                                3424 non-null   int64\n",
      " 46  Risk_Chronic_Malnutrition_Or_Malabsorption                          3424 non-null   int64\n",
      " 47  Risk_Chronic_Liver_Disease                                          3424 non-null   int64\n",
      " 48  Risk_Family_History_Of_Osteoporosis                                 3424 non-null   int64\n",
      " 49  Risk_Low_Calcium_Intake                                             3424 non-null   int64\n",
      " 50  Risk_Vitamin_D_Insufficiency                                        3424 non-null   int64\n",
      " 51  Risk_Poor_Health_Frailty                                            3424 non-null   int64\n",
      " 52  Risk_Excessive_Thinness                                             3424 non-null   int64\n",
      " 53  Risk_Hysterectomy_Oophorectomy                                      3424 non-null   int64\n",
      " 54  Risk_Estrogen_Deficiency                                            3424 non-null   int64\n",
      " 55  Risk_Immobilization                                                 3424 non-null   int64\n",
      " 56  Risk_Recurring_Falls                                                3424 non-null   int64\n",
      " 57  Count_Of_Risks                                                      3424 non-null   int64\n",
      " 58  Male                                                                3424 non-null   uint8\n",
      " 59  Non-Adherent                                                        3424 non-null   uint8\n",
      " 60  Persistent                                                          3424 non-null   uint8\n",
      " 61  Not Hispanic                                                        3424 non-null   uint8\n",
      " 62  Specialist                                                          3424 non-null   uint8\n",
      "dtypes: int64(58), uint8(5)\n",
      "memory usage: 1.5 MB\n"
     ]
    }
   ],
   "source": [
    "train.info()"
   ]
  },
  {
   "cell_type": "code",
   "execution_count": 14,
   "id": "e49d9c12",
   "metadata": {},
   "outputs": [
    {
     "name": "stdout",
     "output_type": "stream",
     "text": [
      "(2396, 62)\n",
      "(2396,)\n",
      "(1028, 62)\n",
      "(1028,)\n"
     ]
    }
   ],
   "source": [
    "from sklearn.model_selection import train_test_split\n",
    "\n",
    "X = train.drop('Persistent',axis=1)\n",
    "y = train['Persistent']\n",
    "\n",
    "X_train, X_test, y_train, y_test = train_test_split(X,y, test_size=0.30, \n",
    "                                                    random_state=42)\n",
    "\n",
    "print(X_train.shape)\n",
    "print(y_train.shape)\n",
    "print(X_test.shape)\n",
    "print(y_test.shape)"
   ]
  },
  {
   "cell_type": "code",
   "execution_count": 15,
   "id": "dd0bae24",
   "metadata": {},
   "outputs": [],
   "source": [
    "from sklearn.svm import SVC"
   ]
  },
  {
   "cell_type": "code",
   "execution_count": 16,
   "id": "573c9147",
   "metadata": {},
   "outputs": [
    {
     "data": {
      "text/plain": [
       "SVC()"
      ]
     },
     "execution_count": 16,
     "metadata": {},
     "output_type": "execute_result"
    }
   ],
   "source": [
    "model = SVC()\n",
    "\n",
    "model.fit(X_train,y_train)"
   ]
  },
  {
   "cell_type": "code",
   "execution_count": 17,
   "id": "8cfc7448",
   "metadata": {},
   "outputs": [],
   "source": [
    "predictions = model.predict(X_test)"
   ]
  },
  {
   "cell_type": "code",
   "execution_count": 18,
   "id": "9d696acf",
   "metadata": {},
   "outputs": [
    {
     "name": "stdout",
     "output_type": "stream",
     "text": [
      "[[583  71]\n",
      " [136 238]]\n"
     ]
    }
   ],
   "source": [
    "predictions = model.predict(X_test)\n",
    "\n",
    "from sklearn.metrics import classification_report,confusion_matrix\n",
    "\n",
    "print(confusion_matrix(y_test,predictions))"
   ]
  },
  {
   "cell_type": "code",
   "execution_count": 19,
   "id": "84d21f17",
   "metadata": {},
   "outputs": [
    {
     "name": "stdout",
     "output_type": "stream",
     "text": [
      "              precision    recall  f1-score   support\n",
      "\n",
      "           0       0.81      0.89      0.85       654\n",
      "           1       0.77      0.64      0.70       374\n",
      "\n",
      "    accuracy                           0.80      1028\n",
      "   macro avg       0.79      0.76      0.77      1028\n",
      "weighted avg       0.80      0.80      0.79      1028\n",
      "\n"
     ]
    }
   ],
   "source": [
    "\n",
    "print(classification_report(y_test,predictions))"
   ]
  },
  {
   "cell_type": "code",
   "execution_count": null,
   "id": "7a7aab72",
   "metadata": {},
   "outputs": [],
   "source": []
  }
 ],
 "metadata": {
  "kernelspec": {
   "display_name": "Python 3 (ipykernel)",
   "language": "python",
   "name": "python3"
  },
  "language_info": {
   "codemirror_mode": {
    "name": "ipython",
    "version": 3
   },
   "file_extension": ".py",
   "mimetype": "text/x-python",
   "name": "python",
   "nbconvert_exporter": "python",
   "pygments_lexer": "ipython3",
   "version": "3.9.13"
  }
 },
 "nbformat": 4,
 "nbformat_minor": 5
}

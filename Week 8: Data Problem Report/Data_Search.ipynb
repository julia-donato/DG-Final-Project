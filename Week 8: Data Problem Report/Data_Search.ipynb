{
 "cells": [
  {
   "cell_type": "markdown",
   "id": "b91a1b74",
   "metadata": {},
   "source": [
    "## EDA Drug Persistency Data"
   ]
  },
  {
   "cell_type": "code",
   "execution_count": 1,
   "id": "983dda40",
   "metadata": {},
   "outputs": [],
   "source": [
    "import numpy as np\n",
    "import pandas as pd\n",
    "import matplotlib.pyplot as plt\n",
    "%matplotlib inline\n",
    "import seaborn as sns\n",
    "sns.set_style('darkgrid')\n",
    "pd.options.display.float_format = '{:,.2f}'.format"
   ]
  },
  {
   "cell_type": "markdown",
   "id": "f8b93224",
   "metadata": {},
   "source": [
    "#### Import Dataset"
   ]
  },
  {
   "cell_type": "code",
   "execution_count": 5,
   "id": "123337d1",
   "metadata": {},
   "outputs": [],
   "source": [
    "df = pd.read_excel('Healthcare_dataset_only.xlsx')"
   ]
  },
  {
   "cell_type": "code",
   "execution_count": 6,
   "id": "3933ae8a",
   "metadata": {},
   "outputs": [
    {
     "data": {
      "text/html": [
       "<div>\n",
       "<style scoped>\n",
       "    .dataframe tbody tr th:only-of-type {\n",
       "        vertical-align: middle;\n",
       "    }\n",
       "\n",
       "    .dataframe tbody tr th {\n",
       "        vertical-align: top;\n",
       "    }\n",
       "\n",
       "    .dataframe thead th {\n",
       "        text-align: right;\n",
       "    }\n",
       "</style>\n",
       "<table border=\"1\" class=\"dataframe\">\n",
       "  <thead>\n",
       "    <tr style=\"text-align: right;\">\n",
       "      <th></th>\n",
       "      <th>Ptid</th>\n",
       "      <th>Persistency_Flag</th>\n",
       "      <th>Gender</th>\n",
       "      <th>Race</th>\n",
       "      <th>Ethnicity</th>\n",
       "      <th>Region</th>\n",
       "      <th>Age_Bucket</th>\n",
       "      <th>Ntm_Speciality</th>\n",
       "      <th>Ntm_Specialist_Flag</th>\n",
       "      <th>Ntm_Speciality_Bucket</th>\n",
       "      <th>...</th>\n",
       "      <th>Risk_Family_History_Of_Osteoporosis</th>\n",
       "      <th>Risk_Low_Calcium_Intake</th>\n",
       "      <th>Risk_Vitamin_D_Insufficiency</th>\n",
       "      <th>Risk_Poor_Health_Frailty</th>\n",
       "      <th>Risk_Excessive_Thinness</th>\n",
       "      <th>Risk_Hysterectomy_Oophorectomy</th>\n",
       "      <th>Risk_Estrogen_Deficiency</th>\n",
       "      <th>Risk_Immobilization</th>\n",
       "      <th>Risk_Recurring_Falls</th>\n",
       "      <th>Count_Of_Risks</th>\n",
       "    </tr>\n",
       "  </thead>\n",
       "  <tbody>\n",
       "    <tr>\n",
       "      <th>0</th>\n",
       "      <td>P1</td>\n",
       "      <td>Persistent</td>\n",
       "      <td>Male</td>\n",
       "      <td>Caucasian</td>\n",
       "      <td>Not Hispanic</td>\n",
       "      <td>West</td>\n",
       "      <td>&gt;75</td>\n",
       "      <td>GENERAL PRACTITIONER</td>\n",
       "      <td>Others</td>\n",
       "      <td>OB/GYN/Others/PCP/Unknown</td>\n",
       "      <td>...</td>\n",
       "      <td>N</td>\n",
       "      <td>N</td>\n",
       "      <td>N</td>\n",
       "      <td>N</td>\n",
       "      <td>N</td>\n",
       "      <td>N</td>\n",
       "      <td>N</td>\n",
       "      <td>N</td>\n",
       "      <td>N</td>\n",
       "      <td>0</td>\n",
       "    </tr>\n",
       "    <tr>\n",
       "      <th>1</th>\n",
       "      <td>P2</td>\n",
       "      <td>Non-Persistent</td>\n",
       "      <td>Male</td>\n",
       "      <td>Asian</td>\n",
       "      <td>Not Hispanic</td>\n",
       "      <td>West</td>\n",
       "      <td>55-65</td>\n",
       "      <td>GENERAL PRACTITIONER</td>\n",
       "      <td>Others</td>\n",
       "      <td>OB/GYN/Others/PCP/Unknown</td>\n",
       "      <td>...</td>\n",
       "      <td>N</td>\n",
       "      <td>N</td>\n",
       "      <td>N</td>\n",
       "      <td>N</td>\n",
       "      <td>N</td>\n",
       "      <td>N</td>\n",
       "      <td>N</td>\n",
       "      <td>N</td>\n",
       "      <td>N</td>\n",
       "      <td>0</td>\n",
       "    </tr>\n",
       "    <tr>\n",
       "      <th>2</th>\n",
       "      <td>P3</td>\n",
       "      <td>Non-Persistent</td>\n",
       "      <td>Female</td>\n",
       "      <td>Other/Unknown</td>\n",
       "      <td>Hispanic</td>\n",
       "      <td>Midwest</td>\n",
       "      <td>65-75</td>\n",
       "      <td>GENERAL PRACTITIONER</td>\n",
       "      <td>Others</td>\n",
       "      <td>OB/GYN/Others/PCP/Unknown</td>\n",
       "      <td>...</td>\n",
       "      <td>N</td>\n",
       "      <td>Y</td>\n",
       "      <td>N</td>\n",
       "      <td>N</td>\n",
       "      <td>N</td>\n",
       "      <td>N</td>\n",
       "      <td>N</td>\n",
       "      <td>N</td>\n",
       "      <td>N</td>\n",
       "      <td>2</td>\n",
       "    </tr>\n",
       "    <tr>\n",
       "      <th>3</th>\n",
       "      <td>P4</td>\n",
       "      <td>Non-Persistent</td>\n",
       "      <td>Female</td>\n",
       "      <td>Caucasian</td>\n",
       "      <td>Not Hispanic</td>\n",
       "      <td>Midwest</td>\n",
       "      <td>&gt;75</td>\n",
       "      <td>GENERAL PRACTITIONER</td>\n",
       "      <td>Others</td>\n",
       "      <td>OB/GYN/Others/PCP/Unknown</td>\n",
       "      <td>...</td>\n",
       "      <td>N</td>\n",
       "      <td>N</td>\n",
       "      <td>N</td>\n",
       "      <td>N</td>\n",
       "      <td>N</td>\n",
       "      <td>N</td>\n",
       "      <td>N</td>\n",
       "      <td>N</td>\n",
       "      <td>N</td>\n",
       "      <td>1</td>\n",
       "    </tr>\n",
       "    <tr>\n",
       "      <th>4</th>\n",
       "      <td>P5</td>\n",
       "      <td>Non-Persistent</td>\n",
       "      <td>Female</td>\n",
       "      <td>Caucasian</td>\n",
       "      <td>Not Hispanic</td>\n",
       "      <td>Midwest</td>\n",
       "      <td>&gt;75</td>\n",
       "      <td>GENERAL PRACTITIONER</td>\n",
       "      <td>Others</td>\n",
       "      <td>OB/GYN/Others/PCP/Unknown</td>\n",
       "      <td>...</td>\n",
       "      <td>N</td>\n",
       "      <td>N</td>\n",
       "      <td>N</td>\n",
       "      <td>N</td>\n",
       "      <td>N</td>\n",
       "      <td>N</td>\n",
       "      <td>N</td>\n",
       "      <td>N</td>\n",
       "      <td>N</td>\n",
       "      <td>1</td>\n",
       "    </tr>\n",
       "  </tbody>\n",
       "</table>\n",
       "<p>5 rows × 69 columns</p>\n",
       "</div>"
      ],
      "text/plain": [
       "  Ptid Persistency_Flag  Gender           Race     Ethnicity   Region  \\\n",
       "0   P1       Persistent    Male      Caucasian  Not Hispanic     West   \n",
       "1   P2   Non-Persistent    Male          Asian  Not Hispanic     West   \n",
       "2   P3   Non-Persistent  Female  Other/Unknown      Hispanic  Midwest   \n",
       "3   P4   Non-Persistent  Female      Caucasian  Not Hispanic  Midwest   \n",
       "4   P5   Non-Persistent  Female      Caucasian  Not Hispanic  Midwest   \n",
       "\n",
       "  Age_Bucket        Ntm_Speciality Ntm_Specialist_Flag  \\\n",
       "0        >75  GENERAL PRACTITIONER              Others   \n",
       "1      55-65  GENERAL PRACTITIONER              Others   \n",
       "2      65-75  GENERAL PRACTITIONER              Others   \n",
       "3        >75  GENERAL PRACTITIONER              Others   \n",
       "4        >75  GENERAL PRACTITIONER              Others   \n",
       "\n",
       "       Ntm_Speciality_Bucket  ... Risk_Family_History_Of_Osteoporosis  \\\n",
       "0  OB/GYN/Others/PCP/Unknown  ...                                   N   \n",
       "1  OB/GYN/Others/PCP/Unknown  ...                                   N   \n",
       "2  OB/GYN/Others/PCP/Unknown  ...                                   N   \n",
       "3  OB/GYN/Others/PCP/Unknown  ...                                   N   \n",
       "4  OB/GYN/Others/PCP/Unknown  ...                                   N   \n",
       "\n",
       "  Risk_Low_Calcium_Intake  Risk_Vitamin_D_Insufficiency  \\\n",
       "0                       N                             N   \n",
       "1                       N                             N   \n",
       "2                       Y                             N   \n",
       "3                       N                             N   \n",
       "4                       N                             N   \n",
       "\n",
       "  Risk_Poor_Health_Frailty Risk_Excessive_Thinness  \\\n",
       "0                        N                       N   \n",
       "1                        N                       N   \n",
       "2                        N                       N   \n",
       "3                        N                       N   \n",
       "4                        N                       N   \n",
       "\n",
       "  Risk_Hysterectomy_Oophorectomy Risk_Estrogen_Deficiency Risk_Immobilization  \\\n",
       "0                              N                        N                   N   \n",
       "1                              N                        N                   N   \n",
       "2                              N                        N                   N   \n",
       "3                              N                        N                   N   \n",
       "4                              N                        N                   N   \n",
       "\n",
       "  Risk_Recurring_Falls Count_Of_Risks  \n",
       "0                    N              0  \n",
       "1                    N              0  \n",
       "2                    N              2  \n",
       "3                    N              1  \n",
       "4                    N              1  \n",
       "\n",
       "[5 rows x 69 columns]"
      ]
     },
     "execution_count": 6,
     "metadata": {},
     "output_type": "execute_result"
    }
   ],
   "source": [
    "df.head()"
   ]
  },
  {
   "cell_type": "markdown",
   "id": "cca84147",
   "metadata": {},
   "source": [
    "#### Observing Data Types"
   ]
  },
  {
   "cell_type": "code",
   "execution_count": 37,
   "id": "96d15e9f",
   "metadata": {
    "scrolled": true
   },
   "outputs": [
    {
     "name": "stdout",
     "output_type": "stream",
     "text": [
      "Ptid                                                                  object\n",
      "Persistency_Flag                                                      object\n",
      "Gender                                                                object\n",
      "Race                                                                  object\n",
      "Ethnicity                                                             object\n",
      "Region                                                                object\n",
      "Age_Bucket                                                            object\n",
      "Ntm_Speciality                                                        object\n",
      "Ntm_Specialist_Flag                                                   object\n",
      "Ntm_Speciality_Bucket                                                 object\n",
      "Gluco_Record_Prior_Ntm                                                object\n",
      "Gluco_Record_During_Rx                                                object\n",
      "Dexa_Freq_During_Rx                                                    int64\n",
      "Dexa_During_Rx                                                        object\n",
      "Frag_Frac_Prior_Ntm                                                   object\n",
      "Frag_Frac_During_Rx                                                   object\n",
      "Risk_Segment_Prior_Ntm                                                object\n",
      "Tscore_Bucket_Prior_Ntm                                               object\n",
      "Risk_Segment_During_Rx                                                object\n",
      "Tscore_Bucket_During_Rx                                               object\n",
      "Change_T_Score                                                        object\n",
      "Change_Risk_Segment                                                   object\n",
      "Adherent_Flag                                                         object\n",
      "Idn_Indicator                                                         object\n",
      "Injectable_Experience_During_Rx                                       object\n",
      "Comorb_Encounter_For_Screening_For_Malignant_Neoplasms                object\n",
      "Comorb_Encounter_For_Immunization                                     object\n",
      "Comorb_Encntr_For_General_Exam_W_O_Complaint,_Susp_Or_Reprtd_Dx       object\n",
      "Comorb_Vitamin_D_Deficiency                                           object\n",
      "Comorb_Other_Joint_Disorder_Not_Elsewhere_Classified                  object\n",
      "Comorb_Encntr_For_Oth_Sp_Exam_W_O_Complaint_Suspected_Or_Reprtd_Dx    object\n",
      "Comorb_Long_Term_Current_Drug_Therapy                                 object\n",
      "Comorb_Dorsalgia                                                      object\n",
      "Comorb_Personal_History_Of_Other_Diseases_And_Conditions              object\n",
      "Comorb_Other_Disorders_Of_Bone_Density_And_Structure                  object\n",
      "Comorb_Disorders_of_lipoprotein_metabolism_and_other_lipidemias       object\n",
      "Comorb_Osteoporosis_without_current_pathological_fracture             object\n",
      "Comorb_Personal_history_of_malignant_neoplasm                         object\n",
      "Comorb_Gastro_esophageal_reflux_disease                               object\n",
      "Concom_Cholesterol_And_Triglyceride_Regulating_Preparations           object\n",
      "Concom_Narcotics                                                      object\n",
      "Concom_Systemic_Corticosteroids_Plain                                 object\n",
      "Concom_Anti_Depressants_And_Mood_Stabilisers                          object\n",
      "Concom_Fluoroquinolones                                               object\n",
      "Concom_Cephalosporins                                                 object\n",
      "Concom_Macrolides_And_Similar_Types                                   object\n",
      "Concom_Broad_Spectrum_Penicillins                                     object\n",
      "Concom_Anaesthetics_General                                           object\n",
      "Concom_Viral_Vaccines                                                 object\n",
      "Risk_Type_1_Insulin_Dependent_Diabetes                                object\n",
      "Risk_Osteogenesis_Imperfecta                                          object\n",
      "Risk_Rheumatoid_Arthritis                                             object\n",
      "Risk_Untreated_Chronic_Hyperthyroidism                                object\n",
      "Risk_Untreated_Chronic_Hypogonadism                                   object\n",
      "Risk_Untreated_Early_Menopause                                        object\n",
      "Risk_Patient_Parent_Fractured_Their_Hip                               object\n",
      "Risk_Smoking_Tobacco                                                  object\n",
      "Risk_Chronic_Malnutrition_Or_Malabsorption                            object\n",
      "Risk_Chronic_Liver_Disease                                            object\n",
      "Risk_Family_History_Of_Osteoporosis                                   object\n",
      "Risk_Low_Calcium_Intake                                               object\n",
      "Risk_Vitamin_D_Insufficiency                                          object\n",
      "Risk_Poor_Health_Frailty                                              object\n",
      "Risk_Excessive_Thinness                                               object\n",
      "Risk_Hysterectomy_Oophorectomy                                        object\n",
      "Risk_Estrogen_Deficiency                                              object\n",
      "Risk_Immobilization                                                   object\n",
      "Risk_Recurring_Falls                                                  object\n",
      "Count_Of_Risks                                                         int64\n",
      "dtype: object\n"
     ]
    }
   ],
   "source": [
    "pd.set_option('display.max_rows', 70)\n",
    "dtypes = df.dtypes\n",
    "print(dtypes)"
   ]
  },
  {
   "cell_type": "code",
   "execution_count": 9,
   "id": "4dbe709c",
   "metadata": {
    "scrolled": true
   },
   "outputs": [
    {
     "name": "stdout",
     "output_type": "stream",
     "text": [
      "(3424, 69)\n"
     ]
    }
   ],
   "source": [
    "shape = df.shape\n",
    "print(shape)"
   ]
  },
  {
   "cell_type": "markdown",
   "id": "5a86e61b",
   "metadata": {},
   "source": [
    "#### Checking for NaN Values"
   ]
  },
  {
   "cell_type": "code",
   "execution_count": 14,
   "id": "30336ae9",
   "metadata": {},
   "outputs": [
    {
     "name": "stdout",
     "output_type": "stream",
     "text": [
      "False\n"
     ]
    }
   ],
   "source": [
    "is_null = df.isnull().values.any()\n",
    "print(is_null)"
   ]
  },
  {
   "cell_type": "code",
   "execution_count": 18,
   "id": "bb01593d",
   "metadata": {},
   "outputs": [
    {
     "data": {
      "text/plain": [
       "array(['Persistent', 'Non-Persistent'], dtype=object)"
      ]
     },
     "execution_count": 18,
     "metadata": {},
     "output_type": "execute_result"
    }
   ],
   "source": [
    "df.Persistency_Flag.unique()"
   ]
  },
  {
   "cell_type": "code",
   "execution_count": 19,
   "id": "c8320cf6",
   "metadata": {},
   "outputs": [
    {
     "data": {
      "text/plain": [
       "array(['Male', 'Female'], dtype=object)"
      ]
     },
     "execution_count": 19,
     "metadata": {},
     "output_type": "execute_result"
    }
   ],
   "source": [
    "df.Gender.unique()"
   ]
  },
  {
   "cell_type": "code",
   "execution_count": 15,
   "id": "6749b9e3",
   "metadata": {},
   "outputs": [
    {
     "data": {
      "text/plain": [
       "array(['Caucasian', 'Asian', 'Other/Unknown', 'African American'],\n",
       "      dtype=object)"
      ]
     },
     "execution_count": 15,
     "metadata": {},
     "output_type": "execute_result"
    }
   ],
   "source": [
    "df.Race.unique()"
   ]
  },
  {
   "cell_type": "code",
   "execution_count": 17,
   "id": "3e757925",
   "metadata": {},
   "outputs": [
    {
     "data": {
      "text/plain": [
       "Caucasian           3148\n",
       "Other/Unknown         97\n",
       "African American      95\n",
       "Asian                 84\n",
       "Name: Race, dtype: int64"
      ]
     },
     "execution_count": 17,
     "metadata": {},
     "output_type": "execute_result"
    }
   ],
   "source": [
    "df.Race.value_counts()"
   ]
  },
  {
   "cell_type": "code",
   "execution_count": 25,
   "id": "be8e946e",
   "metadata": {},
   "outputs": [
    {
     "data": {
      "text/plain": [
       "2.832943925233645"
      ]
     },
     "execution_count": 25,
     "metadata": {},
     "output_type": "execute_result"
    }
   ],
   "source": [
    "(97/df.Race.count())*100"
   ]
  },
  {
   "cell_type": "code",
   "execution_count": 20,
   "id": "e0a017bd",
   "metadata": {},
   "outputs": [
    {
     "data": {
      "text/plain": [
       "array(['Not Hispanic', 'Hispanic', 'Unknown'], dtype=object)"
      ]
     },
     "execution_count": 20,
     "metadata": {},
     "output_type": "execute_result"
    }
   ],
   "source": [
    "df.Ethnicity.unique()"
   ]
  },
  {
   "cell_type": "code",
   "execution_count": 21,
   "id": "51160786",
   "metadata": {},
   "outputs": [
    {
     "data": {
      "text/plain": [
       "Not Hispanic    3235\n",
       "Hispanic          98\n",
       "Unknown           91\n",
       "Name: Ethnicity, dtype: int64"
      ]
     },
     "execution_count": 21,
     "metadata": {},
     "output_type": "execute_result"
    }
   ],
   "source": [
    "df.Ethnicity.value_counts()"
   ]
  },
  {
   "cell_type": "code",
   "execution_count": 23,
   "id": "825aa579",
   "metadata": {},
   "outputs": [
    {
     "data": {
      "text/plain": [
       "2.6577102803738315"
      ]
     },
     "execution_count": 23,
     "metadata": {},
     "output_type": "execute_result"
    }
   ],
   "source": [
    "(91/(91+98+3235))*100"
   ]
  },
  {
   "cell_type": "code",
   "execution_count": 26,
   "id": "f271f96d",
   "metadata": {},
   "outputs": [
    {
     "data": {
      "text/plain": [
       "array(['West', 'Midwest', 'South', 'Other/Unknown', 'Northeast'],\n",
       "      dtype=object)"
      ]
     },
     "execution_count": 26,
     "metadata": {},
     "output_type": "execute_result"
    }
   ],
   "source": [
    "df.Region.unique()"
   ]
  },
  {
   "cell_type": "code",
   "execution_count": 27,
   "id": "9dcace44",
   "metadata": {},
   "outputs": [
    {
     "data": {
      "text/plain": [
       "Midwest          1383\n",
       "South            1247\n",
       "West              502\n",
       "Northeast         232\n",
       "Other/Unknown      60\n",
       "Name: Region, dtype: int64"
      ]
     },
     "execution_count": 27,
     "metadata": {},
     "output_type": "execute_result"
    }
   ],
   "source": [
    "df.Region.value_counts()"
   ]
  },
  {
   "cell_type": "code",
   "execution_count": 28,
   "id": "932eff1e",
   "metadata": {},
   "outputs": [
    {
     "data": {
      "text/plain": [
       "1.7523364485981308"
      ]
     },
     "execution_count": 28,
     "metadata": {},
     "output_type": "execute_result"
    }
   ],
   "source": [
    "(60/df.Region.count())*100"
   ]
  },
  {
   "cell_type": "code",
   "execution_count": 30,
   "id": "62ed5005",
   "metadata": {},
   "outputs": [
    {
     "data": {
      "text/plain": [
       "array(['>75', '55-65', '65-75', '<55'], dtype=object)"
      ]
     },
     "execution_count": 30,
     "metadata": {},
     "output_type": "execute_result"
    }
   ],
   "source": [
    "df.Age_Bucket.unique()"
   ]
  },
  {
   "cell_type": "code",
   "execution_count": 32,
   "id": "b7a804ef",
   "metadata": {},
   "outputs": [
    {
     "data": {
      "text/plain": [
       "array(['GENERAL PRACTITIONER', 'Unknown', 'ENDOCRINOLOGY', 'RHEUMATOLOGY',\n",
       "       'ONCOLOGY', 'PATHOLOGY', 'OBSTETRICS AND GYNECOLOGY',\n",
       "       'PSYCHIATRY AND NEUROLOGY', 'ORTHOPEDIC SURGERY',\n",
       "       'PHYSICAL MEDICINE AND REHABILITATION',\n",
       "       'SURGERY AND SURGICAL SPECIALTIES', 'PEDIATRICS',\n",
       "       'PULMONARY MEDICINE', 'HEMATOLOGY & ONCOLOGY', 'UROLOGY',\n",
       "       'PAIN MEDICINE', 'NEUROLOGY', 'RADIOLOGY', 'GASTROENTEROLOGY',\n",
       "       'EMERGENCY MEDICINE', 'PODIATRY', 'OPHTHALMOLOGY',\n",
       "       'OCCUPATIONAL MEDICINE', 'TRANSPLANT SURGERY', 'PLASTIC SURGERY',\n",
       "       'CLINICAL NURSE SPECIALIST', 'OTOLARYNGOLOGY', 'HOSPITAL MEDICINE',\n",
       "       'ORTHOPEDICS', 'NEPHROLOGY', 'GERIATRIC MEDICINE',\n",
       "       'HOSPICE AND PALLIATIVE MEDICINE',\n",
       "       'OBSTETRICS & OBSTETRICS & GYNECOLOGY & OBSTETRICS & GYNECOLOGY',\n",
       "       'VASCULAR SURGERY', 'CARDIOLOGY', 'NUCLEAR MEDICINE'], dtype=object)"
      ]
     },
     "execution_count": 32,
     "metadata": {},
     "output_type": "execute_result"
    }
   ],
   "source": [
    "df.Ntm_Speciality.unique()"
   ]
  },
  {
   "cell_type": "code",
   "execution_count": 34,
   "id": "76ed1090",
   "metadata": {},
   "outputs": [
    {
     "data": {
      "text/plain": [
       "GENERAL PRACTITIONER                                              1535\n",
       "RHEUMATOLOGY                                                       604\n",
       "ENDOCRINOLOGY                                                      458\n",
       "Unknown                                                            310\n",
       "ONCOLOGY                                                           225\n",
       "OBSTETRICS AND GYNECOLOGY                                           90\n",
       "UROLOGY                                                             33\n",
       "ORTHOPEDIC SURGERY                                                  30\n",
       "CARDIOLOGY                                                          22\n",
       "PATHOLOGY                                                           16\n",
       "HEMATOLOGY & ONCOLOGY                                               14\n",
       "OTOLARYNGOLOGY                                                      14\n",
       "PEDIATRICS                                                          13\n",
       "PHYSICAL MEDICINE AND REHABILITATION                                11\n",
       "PULMONARY MEDICINE                                                   8\n",
       "SURGERY AND SURGICAL SPECIALTIES                                     8\n",
       "PSYCHIATRY AND NEUROLOGY                                             4\n",
       "NEPHROLOGY                                                           3\n",
       "ORTHOPEDICS                                                          3\n",
       "PLASTIC SURGERY                                                      2\n",
       "VASCULAR SURGERY                                                     2\n",
       "HOSPICE AND PALLIATIVE MEDICINE                                      2\n",
       "GERIATRIC MEDICINE                                                   2\n",
       "GASTROENTEROLOGY                                                     2\n",
       "TRANSPLANT SURGERY                                                   2\n",
       "CLINICAL NURSE SPECIALIST                                            1\n",
       "OCCUPATIONAL MEDICINE                                                1\n",
       "HOSPITAL MEDICINE                                                    1\n",
       "OPHTHALMOLOGY                                                        1\n",
       "PODIATRY                                                             1\n",
       "EMERGENCY MEDICINE                                                   1\n",
       "RADIOLOGY                                                            1\n",
       "OBSTETRICS & OBSTETRICS & GYNECOLOGY & OBSTETRICS & GYNECOLOGY       1\n",
       "NEUROLOGY                                                            1\n",
       "PAIN MEDICINE                                                        1\n",
       "NUCLEAR MEDICINE                                                     1\n",
       "Name: Ntm_Speciality, dtype: int64"
      ]
     },
     "execution_count": 34,
     "metadata": {},
     "output_type": "execute_result"
    }
   ],
   "source": [
    "df.Ntm_Speciality.value_counts()"
   ]
  },
  {
   "cell_type": "code",
   "execution_count": 35,
   "id": "2965d5db",
   "metadata": {},
   "outputs": [
    {
     "data": {
      "text/plain": [
       "9.05373831775701"
      ]
     },
     "execution_count": 35,
     "metadata": {},
     "output_type": "execute_result"
    }
   ],
   "source": [
    "(310/df.Ntm_Speciality.count())*100"
   ]
  },
  {
   "cell_type": "code",
   "execution_count": 36,
   "id": "dc007b7c",
   "metadata": {},
   "outputs": [
    {
     "data": {
      "text/plain": [
       "array(['Others', 'Specialist'], dtype=object)"
      ]
     },
     "execution_count": 36,
     "metadata": {},
     "output_type": "execute_result"
    }
   ],
   "source": [
    "df.Ntm_Specialist_Flag.unique()"
   ]
  },
  {
   "cell_type": "code",
   "execution_count": 38,
   "id": "7c3271c3",
   "metadata": {},
   "outputs": [
    {
     "data": {
      "text/plain": [
       "array(['OB/GYN/Others/PCP/Unknown', 'Endo/Onc/Uro', 'Rheum'], dtype=object)"
      ]
     },
     "execution_count": 38,
     "metadata": {},
     "output_type": "execute_result"
    }
   ],
   "source": [
    "df.Ntm_Speciality_Bucket.unique()"
   ]
  },
  {
   "cell_type": "code",
   "execution_count": 47,
   "id": "c75503bd",
   "metadata": {},
   "outputs": [
    {
     "data": {
      "text/plain": [
       "array(['VLR_LR', 'Unknown', 'HR_VHR'], dtype=object)"
      ]
     },
     "execution_count": 47,
     "metadata": {},
     "output_type": "execute_result"
    }
   ],
   "source": [
    "df.Risk_Segment_During_Rx.unique()"
   ]
  },
  {
   "cell_type": "code",
   "execution_count": 48,
   "id": "a6327322",
   "metadata": {},
   "outputs": [
    {
     "data": {
      "text/plain": [
       "Unknown    1497\n",
       "HR_VHR      965\n",
       "VLR_LR      962\n",
       "Name: Risk_Segment_During_Rx, dtype: int64"
      ]
     },
     "execution_count": 48,
     "metadata": {},
     "output_type": "execute_result"
    }
   ],
   "source": [
    "df.Risk_Segment_During_Rx.value_counts()"
   ]
  },
  {
   "cell_type": "code",
   "execution_count": 49,
   "id": "899f56c9",
   "metadata": {},
   "outputs": [
    {
     "data": {
      "text/plain": [
       "43.720794392523366"
      ]
     },
     "execution_count": 49,
     "metadata": {},
     "output_type": "execute_result"
    }
   ],
   "source": [
    "(1497/df.Risk_Segment_During_Rx.count())*100"
   ]
  },
  {
   "cell_type": "code",
   "execution_count": 50,
   "id": "9a65c96b",
   "metadata": {},
   "outputs": [
    {
     "data": {
      "text/plain": [
       "array(['<=-2.5', 'Unknown', '>-2.5'], dtype=object)"
      ]
     },
     "execution_count": 50,
     "metadata": {},
     "output_type": "execute_result"
    }
   ],
   "source": [
    "df.Tscore_Bucket_During_Rx.unique()"
   ]
  },
  {
   "cell_type": "code",
   "execution_count": 51,
   "id": "c1a8f5e6",
   "metadata": {},
   "outputs": [
    {
     "data": {
      "text/plain": [
       "Unknown    1497\n",
       "<=-2.5     1017\n",
       ">-2.5       910\n",
       "Name: Tscore_Bucket_During_Rx, dtype: int64"
      ]
     },
     "execution_count": 51,
     "metadata": {},
     "output_type": "execute_result"
    }
   ],
   "source": [
    "df.Tscore_Bucket_During_Rx.value_counts()"
   ]
  },
  {
   "cell_type": "code",
   "execution_count": 52,
   "id": "c9629f76",
   "metadata": {},
   "outputs": [
    {
     "data": {
      "text/plain": [
       "43.720794392523366"
      ]
     },
     "execution_count": 52,
     "metadata": {},
     "output_type": "execute_result"
    }
   ],
   "source": [
    "(1497/df.Tscore_Bucket_During_Rx.count())*100"
   ]
  },
  {
   "cell_type": "code",
   "execution_count": 53,
   "id": "d12d46c2",
   "metadata": {},
   "outputs": [
    {
     "data": {
      "text/plain": [
       "array(['No change', 'Unknown', 'Worsened', 'Improved'], dtype=object)"
      ]
     },
     "execution_count": 53,
     "metadata": {},
     "output_type": "execute_result"
    }
   ],
   "source": [
    "df.Change_T_Score.unique()"
   ]
  },
  {
   "cell_type": "code",
   "execution_count": 54,
   "id": "232302f8",
   "metadata": {},
   "outputs": [
    {
     "data": {
      "text/plain": [
       "array(['Unknown', 'No change', 'Worsened', 'Improved'], dtype=object)"
      ]
     },
     "execution_count": 54,
     "metadata": {},
     "output_type": "execute_result"
    }
   ],
   "source": [
    "df.Change_Risk_Segment.unique()"
   ]
  },
  {
   "cell_type": "code",
   "execution_count": 55,
   "id": "0c8ab1ef",
   "metadata": {},
   "outputs": [
    {
     "data": {
      "text/plain": [
       "Unknown      2229\n",
       "No change    1052\n",
       "Worsened      121\n",
       "Improved       22\n",
       "Name: Change_Risk_Segment, dtype: int64"
      ]
     },
     "execution_count": 55,
     "metadata": {},
     "output_type": "execute_result"
    }
   ],
   "source": [
    "df.Change_Risk_Segment.value_counts()"
   ]
  },
  {
   "cell_type": "code",
   "execution_count": 56,
   "id": "fd6c4e7c",
   "metadata": {},
   "outputs": [
    {
     "data": {
      "text/plain": [
       "65.09929906542055"
      ]
     },
     "execution_count": 56,
     "metadata": {},
     "output_type": "execute_result"
    }
   ],
   "source": [
    "(2229/df.Change_Risk_Segment.count())*100"
   ]
  },
  {
   "cell_type": "code",
   "execution_count": 57,
   "id": "e633b0f7",
   "metadata": {},
   "outputs": [
    {
     "data": {
      "text/plain": [
       "array(['Y', 'N'], dtype=object)"
      ]
     },
     "execution_count": 57,
     "metadata": {},
     "output_type": "execute_result"
    }
   ],
   "source": [
    "df.Injectable_Experience_During_Rx.unique()"
   ]
  },
  {
   "cell_type": "code",
   "execution_count": 58,
   "id": "b3ee99f1",
   "metadata": {},
   "outputs": [
    {
     "data": {
      "text/plain": [
       "array(['Adherent', 'Non-Adherent'], dtype=object)"
      ]
     },
     "execution_count": 58,
     "metadata": {},
     "output_type": "execute_result"
    }
   ],
   "source": [
    "df.Adherent_Flag.unique()"
   ]
  },
  {
   "cell_type": "code",
   "execution_count": 60,
   "id": "0458f814",
   "metadata": {},
   "outputs": [
    {
     "data": {
      "text/plain": [
       "array(['N', 'Y'], dtype=object)"
      ]
     },
     "execution_count": 60,
     "metadata": {},
     "output_type": "execute_result"
    }
   ],
   "source": [
    "df.Idn_Indicator.unique()"
   ]
  },
  {
   "cell_type": "code",
   "execution_count": null,
   "id": "bce97d54",
   "metadata": {},
   "outputs": [],
   "source": []
  }
 ],
 "metadata": {
  "kernelspec": {
   "display_name": "Python 3 (ipykernel)",
   "language": "python",
   "name": "python3"
  },
  "language_info": {
   "codemirror_mode": {
    "name": "ipython",
    "version": 3
   },
   "file_extension": ".py",
   "mimetype": "text/x-python",
   "name": "python",
   "nbconvert_exporter": "python",
   "pygments_lexer": "ipython3",
   "version": "3.9.13"
  }
 },
 "nbformat": 4,
 "nbformat_minor": 5
}
